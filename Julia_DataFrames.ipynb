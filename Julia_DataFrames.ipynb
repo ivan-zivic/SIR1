{
 "cells": [
  {
   "cell_type": "markdown",
   "id": "infectious-meeting",
   "metadata": {},
   "source": [
    "## <center>DataFrames biblioteka</center>"
   ]
  },
  {
   "cell_type": "markdown",
   "id": "matched-appliance",
   "metadata": {},
   "source": [
    "   Paket **DataFrames** u programskom jeziku **Julia**, pruža mogućnost učitavanja podataka predstavljenih u formatu vrednosti razdvojenih zarezom (comma separated values) u **DataFrame** objekat. Takođe, moguće je kreirati **DataFrame** objekat navođenjem željenih kolona i pridruženih vrednosti odgovarajućoj koloni. Nakon učitavanja podataka u instancu tipa DataFrame ili kreiranja **DataFrame**-a, moguće je koristiti različite implementirane funkcije za manipulaciju podacima."
   ]
  },
  {
   "cell_type": "code",
   "execution_count": 186,
   "id": "happy-patent",
   "metadata": {},
   "outputs": [],
   "source": [
    "using DataFrames\n",
    "using Statistics\n",
    "using CSV"
   ]
  },
  {
   "cell_type": "markdown",
   "id": "drawn-equity",
   "metadata": {},
   "source": [
    "### Kreiranje novog DataFrame-a"
   ]
  },
  {
   "cell_type": "markdown",
   "id": "incorporate-pierre",
   "metadata": {},
   "source": [
    "- Da bi se kreirao novi **DataFrame**, najpre je potrebno učitati **DataFrames** biblioteku (**using DataFrames** naredba)\n",
    "- Kolone **DataFrame**-a se tretiraju kao nizovi, tako da je najpre moguće kreirati sve nizove koji predstavljaju individualne kolone\n",
    "- Kreiranje **DataFrame**-a postiže se instanciranjem tipa DataFrame i prosleđivanjem nizova kreiranih kolona, odnosno atributa kao argumenata\n",
    "- Prilikom štampanja kreiranog **DataFrame**-a, **Jupyter notebook** će pored naziva kolona prikazati i tipove vrednosti koje svaka kolona sadrži\n",
    "- Svaka vrsta odnosno red u kreiranom **DataFrame**-u predstavlja instancu (opservaciju), dok kolone predstavljaju obeležja (eng. **features**), odnosno atribute\n"
   ]
  },
  {
   "cell_type": "code",
   "execution_count": 187,
   "id": "aware-utilization",
   "metadata": {},
   "outputs": [
    {
     "data": {
      "text/html": [
       "<table class=\"data-frame\"><thead><tr><th></th><th>grad</th><th>broj_stanovnika</th></tr><tr><th></th><th>String</th><th>Int64</th></tr></thead><tbody><p>3 rows × 2 columns</p><tr><th>1</th><td>Niš</td><td>260237</td></tr><tr><th>2</th><td>Beograd</td><td>1166763</td></tr><tr><th>3</th><td>Novi Sad</td><td>250439</td></tr></tbody></table>"
      ],
      "text/latex": [
       "\\begin{tabular}{r|cc}\n",
       "\t& grad & broj\\_stanovnika\\\\\n",
       "\t\\hline\n",
       "\t& String & Int64\\\\\n",
       "\t\\hline\n",
       "\t1 & Niš & 260237 \\\\\n",
       "\t2 & Beograd & 1166763 \\\\\n",
       "\t3 & Novi Sad & 250439 \\\\\n",
       "\\end{tabular}\n"
      ],
      "text/plain": [
       "\u001b[1m3×2 DataFrame\u001b[0m\n",
       "\u001b[1m Row \u001b[0m│\u001b[1m grad     \u001b[0m\u001b[1m broj_stanovnika \u001b[0m\n",
       "\u001b[1m     \u001b[0m│\u001b[90m String   \u001b[0m\u001b[90m Int64           \u001b[0m\n",
       "─────┼───────────────────────────\n",
       "   1 │ Niš                260237\n",
       "   2 │ Beograd           1166763\n",
       "   3 │ Novi Sad           250439"
      ]
     },
     "execution_count": 187,
     "metadata": {},
     "output_type": "execute_result"
    }
   ],
   "source": [
    "grad = [\"Niš\", \"Beograd\", \"Novi Sad\"]\n",
    "broj_stanovnika = [260237, 1166763, 250439]\n",
    "df = DataFrame(grad=grad, broj_stanovnika=broj_stanovnika)"
   ]
  },
  {
   "cell_type": "markdown",
   "id": "homeless-simple",
   "metadata": {},
   "source": [
    "### Dodavanje nove instance (opservacije) u DataFrame"
   ]
  },
  {
   "cell_type": "markdown",
   "id": "initial-conversation",
   "metadata": {},
   "source": [
    "- Dodavanje nove opservacije postiže se pozivom **push** metode (**push!** ukoliko želimo da promene izvršimo u originalnom **DataFrame**-u)\n",
    "- Kao prvi argument prosleđujemo **DataFrame** objekat, a kao drugi element prosleđujemo vektor vrednosti koje želimo da dodamo. \n",
    "- Ukoliko ne navodimo argument kome pridružujemo vrednost, vrednosti navodimo istim redosledom koji smo navodili prilikom kreiranja atributa (prvo navodimo ima grada, a nakon toga broj stanovnika)"
   ]
  },
  {
   "cell_type": "code",
   "execution_count": 188,
   "id": "rotary-guatemala",
   "metadata": {},
   "outputs": [
    {
     "data": {
      "text/html": [
       "<table class=\"data-frame\"><thead><tr><th></th><th>grad</th><th>broj_stanovnika</th></tr><tr><th></th><th>String</th><th>Int64</th></tr></thead><tbody><p>4 rows × 2 columns</p><tr><th>1</th><td>Niš</td><td>260237</td></tr><tr><th>2</th><td>Beograd</td><td>1166763</td></tr><tr><th>3</th><td>Novi Sad</td><td>250439</td></tr><tr><th>4</th><td>Leskovac</td><td>144206</td></tr></tbody></table>"
      ],
      "text/latex": [
       "\\begin{tabular}{r|cc}\n",
       "\t& grad & broj\\_stanovnika\\\\\n",
       "\t\\hline\n",
       "\t& String & Int64\\\\\n",
       "\t\\hline\n",
       "\t1 & Niš & 260237 \\\\\n",
       "\t2 & Beograd & 1166763 \\\\\n",
       "\t3 & Novi Sad & 250439 \\\\\n",
       "\t4 & Leskovac & 144206 \\\\\n",
       "\\end{tabular}\n"
      ],
      "text/plain": [
       "\u001b[1m4×2 DataFrame\u001b[0m\n",
       "\u001b[1m Row \u001b[0m│\u001b[1m grad     \u001b[0m\u001b[1m broj_stanovnika \u001b[0m\n",
       "\u001b[1m     \u001b[0m│\u001b[90m String   \u001b[0m\u001b[90m Int64           \u001b[0m\n",
       "─────┼───────────────────────────\n",
       "   1 │ Niš                260237\n",
       "   2 │ Beograd           1166763\n",
       "   3 │ Novi Sad           250439\n",
       "   4 │ Leskovac           144206"
      ]
     },
     "execution_count": 188,
     "metadata": {},
     "output_type": "execute_result"
    }
   ],
   "source": [
    "push!(df, [\"Leskovac\", 144206])"
   ]
  },
  {
   "cell_type": "markdown",
   "id": "inclusive-celtic",
   "metadata": {},
   "source": [
    "- Ukoliko želimo da atribute prilkom dodavanja nove opservacije navodimo u proizvoljnom redosledu, kao drugi argument pri pozivu metode **push!** navodimo rečnik (eng. **dictionary**)\n",
    "- Rečnik je kolekcija parova, gde je prvi član para naziv atributa, a drugi član vrednost koju dodeljujemo atributu"
   ]
  },
  {
   "cell_type": "code",
   "execution_count": 189,
   "id": "motivated-killing",
   "metadata": {},
   "outputs": [
    {
     "data": {
      "text/html": [
       "<table class=\"data-frame\"><thead><tr><th></th><th>grad</th><th>broj_stanovnika</th></tr><tr><th></th><th>String</th><th>Int64</th></tr></thead><tbody><p>5 rows × 2 columns</p><tr><th>1</th><td>Niš</td><td>260237</td></tr><tr><th>2</th><td>Beograd</td><td>1166763</td></tr><tr><th>3</th><td>Novi Sad</td><td>250439</td></tr><tr><th>4</th><td>Leskovac</td><td>144206</td></tr><tr><th>5</th><td>Pirot</td><td>40267</td></tr></tbody></table>"
      ],
      "text/latex": [
       "\\begin{tabular}{r|cc}\n",
       "\t& grad & broj\\_stanovnika\\\\\n",
       "\t\\hline\n",
       "\t& String & Int64\\\\\n",
       "\t\\hline\n",
       "\t1 & Niš & 260237 \\\\\n",
       "\t2 & Beograd & 1166763 \\\\\n",
       "\t3 & Novi Sad & 250439 \\\\\n",
       "\t4 & Leskovac & 144206 \\\\\n",
       "\t5 & Pirot & 40267 \\\\\n",
       "\\end{tabular}\n"
      ],
      "text/plain": [
       "\u001b[1m5×2 DataFrame\u001b[0m\n",
       "\u001b[1m Row \u001b[0m│\u001b[1m grad     \u001b[0m\u001b[1m broj_stanovnika \u001b[0m\n",
       "\u001b[1m     \u001b[0m│\u001b[90m String   \u001b[0m\u001b[90m Int64           \u001b[0m\n",
       "─────┼───────────────────────────\n",
       "   1 │ Niš                260237\n",
       "   2 │ Beograd           1166763\n",
       "   3 │ Novi Sad           250439\n",
       "   4 │ Leskovac           144206\n",
       "   5 │ Pirot               40267"
      ]
     },
     "execution_count": 189,
     "metadata": {},
     "output_type": "execute_result"
    }
   ],
   "source": [
    "push!(df, Dict(:broj_stanovnika => 40267, :grad => \"Pirot\"))"
   ]
  },
  {
   "cell_type": "markdown",
   "id": "organic-hypothetical",
   "metadata": {},
   "source": [
    "### Dodavanje nove kolone u DataFrame"
   ]
  },
  {
   "cell_type": "code",
   "execution_count": 190,
   "id": "violent-dakota",
   "metadata": {},
   "outputs": [
    {
     "data": {
      "text/html": [
       "<table class=\"data-frame\"><thead><tr><th></th><th>grad</th><th>broj_stanovnika</th><th>okrug</th></tr><tr><th></th><th>String</th><th>Int64</th><th>String</th></tr></thead><tbody><p>5 rows × 3 columns</p><tr><th>1</th><td>Niš</td><td>260237</td><td>nišavski</td></tr><tr><th>2</th><td>Beograd</td><td>1166763</td><td>beogradski</td></tr><tr><th>3</th><td>Novi Sad</td><td>250439</td><td>južnobački</td></tr><tr><th>4</th><td>Leskovac</td><td>144206</td><td>jablanički</td></tr><tr><th>5</th><td>Pirot</td><td>40267</td><td>pirotski</td></tr></tbody></table>"
      ],
      "text/latex": [
       "\\begin{tabular}{r|ccc}\n",
       "\t& grad & broj\\_stanovnika & okrug\\\\\n",
       "\t\\hline\n",
       "\t& String & Int64 & String\\\\\n",
       "\t\\hline\n",
       "\t1 & Niš & 260237 & nišavski \\\\\n",
       "\t2 & Beograd & 1166763 & beogradski \\\\\n",
       "\t3 & Novi Sad & 250439 & južnobački \\\\\n",
       "\t4 & Leskovac & 144206 & jablanički \\\\\n",
       "\t5 & Pirot & 40267 & pirotski \\\\\n",
       "\\end{tabular}\n"
      ],
      "text/plain": [
       "\u001b[1m5×3 DataFrame\u001b[0m\n",
       "\u001b[1m Row \u001b[0m│\u001b[1m grad     \u001b[0m\u001b[1m broj_stanovnika \u001b[0m\u001b[1m okrug      \u001b[0m\n",
       "\u001b[1m     \u001b[0m│\u001b[90m String   \u001b[0m\u001b[90m Int64           \u001b[0m\u001b[90m String     \u001b[0m\n",
       "─────┼───────────────────────────────────────\n",
       "   1 │ Niš                260237  nišavski\n",
       "   2 │ Beograd           1166763  beogradski\n",
       "   3 │ Novi Sad           250439  južnobački\n",
       "   4 │ Leskovac           144206  jablanički\n",
       "   5 │ Pirot               40267  pirotski"
      ]
     },
     "execution_count": 190,
     "metadata": {},
     "output_type": "execute_result"
    }
   ],
   "source": [
    "df[:, :okrug] = [\"nišavski\", \"beogradski\", \"južnobački\", \"jablanički\", \"pirotski\"]\n",
    "df"
   ]
  },
  {
   "cell_type": "markdown",
   "id": "challenging-preliminary",
   "metadata": {},
   "source": [
    "### Određivanje dimenzija DataFrame-a"
   ]
  },
  {
   "cell_type": "markdown",
   "id": "three-suspension",
   "metadata": {},
   "source": [
    "- Funkcija **size** sa prosleđenim **DataFrame**-om kao argumentom vraća torku (eng. **tuple**) dva elementa.\n",
    "- Torka je u ovom slučaju uređena dvojka elmenata, gde prvi element ukazuje na broj opservacija u **DataFrame**-u, a druga kolona broj obeležja (kolona)"
   ]
  },
  {
   "cell_type": "code",
   "execution_count": 192,
   "id": "perceived-ecuador",
   "metadata": {},
   "outputs": [
    {
     "data": {
      "text/plain": [
       "(5, 3)"
      ]
     },
     "execution_count": 192,
     "metadata": {},
     "output_type": "execute_result"
    }
   ],
   "source": [
    "size(df)"
   ]
  },
  {
   "cell_type": "markdown",
   "id": "dried-current",
   "metadata": {},
   "source": [
    "- Funkcija name sa prosleđenim **DataFrame**-om kao argumentom vraća niz čiji su elementi nazivi kolona"
   ]
  },
  {
   "cell_type": "code",
   "execution_count": 193,
   "id": "convertible-surface",
   "metadata": {},
   "outputs": [
    {
     "name": "stdout",
     "output_type": "stream",
     "text": [
      "grad\n",
      "broj_stanovnika\n",
      "okrug\n"
     ]
    }
   ],
   "source": [
    "for column_name in names(df)\n",
    "   println(column_name) \n",
    "end"
   ]
  },
  {
   "cell_type": "markdown",
   "id": "lonely-insertion",
   "metadata": {},
   "source": [
    "### Promena naziva kolona"
   ]
  },
  {
   "cell_type": "markdown",
   "id": "twenty-cheat",
   "metadata": {},
   "source": [
    "- Ukoliko bismo najpre dodali kolonu pod nazivom **trest** umesto **test** i otkrili da smo načinili grešku, istu možemo ispraviti pomoću metode **rename**\n",
    "- U primeru ispod, najpre je dodata kolona pod nazivom **trest**, a zatim je ispravljena greška pozivom metode **rename**"
   ]
  },
  {
   "cell_type": "code",
   "execution_count": 194,
   "id": "conscious-cedar",
   "metadata": {},
   "outputs": [
    {
     "data": {
      "text/html": [
       "<table class=\"data-frame\"><thead><tr><th></th><th>grad</th><th>broj_stanovnika</th><th>okrug</th><th>trest</th></tr><tr><th></th><th>String</th><th>Int64</th><th>String</th><th>String</th></tr></thead><tbody><p>5 rows × 4 columns</p><tr><th>1</th><td>Niš</td><td>260237</td><td>nišavski</td><td>test 1</td></tr><tr><th>2</th><td>Beograd</td><td>1166763</td><td>beogradski</td><td>test 2</td></tr><tr><th>3</th><td>Novi Sad</td><td>250439</td><td>južnobački</td><td>test 3</td></tr><tr><th>4</th><td>Leskovac</td><td>144206</td><td>jablanički</td><td>test 4</td></tr><tr><th>5</th><td>Pirot</td><td>40267</td><td>pirotski</td><td>test 5</td></tr></tbody></table>"
      ],
      "text/latex": [
       "\\begin{tabular}{r|cccc}\n",
       "\t& grad & broj\\_stanovnika & okrug & trest\\\\\n",
       "\t\\hline\n",
       "\t& String & Int64 & String & String\\\\\n",
       "\t\\hline\n",
       "\t1 & Niš & 260237 & nišavski & test 1 \\\\\n",
       "\t2 & Beograd & 1166763 & beogradski & test 2 \\\\\n",
       "\t3 & Novi Sad & 250439 & južnobački & test 3 \\\\\n",
       "\t4 & Leskovac & 144206 & jablanički & test 4 \\\\\n",
       "\t5 & Pirot & 40267 & pirotski & test 5 \\\\\n",
       "\\end{tabular}\n"
      ],
      "text/plain": [
       "\u001b[1m5×4 DataFrame\u001b[0m\n",
       "\u001b[1m Row \u001b[0m│\u001b[1m grad     \u001b[0m\u001b[1m broj_stanovnika \u001b[0m\u001b[1m okrug      \u001b[0m\u001b[1m trest  \u001b[0m\n",
       "\u001b[1m     \u001b[0m│\u001b[90m String   \u001b[0m\u001b[90m Int64           \u001b[0m\u001b[90m String     \u001b[0m\u001b[90m String \u001b[0m\n",
       "─────┼───────────────────────────────────────────────\n",
       "   1 │ Niš                260237  nišavski    test 1\n",
       "   2 │ Beograd           1166763  beogradski  test 2\n",
       "   3 │ Novi Sad           250439  južnobački  test 3\n",
       "   4 │ Leskovac           144206  jablanički  test 4\n",
       "   5 │ Pirot               40267  pirotski    test 5"
      ]
     },
     "execution_count": 194,
     "metadata": {},
     "output_type": "execute_result"
    }
   ],
   "source": [
    "df[:, :trest] = [\"test 1\", \"test 2\", \"test 3\", \"test 4\", \"test 5\"]\n",
    "df"
   ]
  },
  {
   "cell_type": "code",
   "execution_count": 195,
   "id": "assigned-spelling",
   "metadata": {},
   "outputs": [
    {
     "data": {
      "text/html": [
       "<table class=\"data-frame\"><thead><tr><th></th><th>grad</th><th>broj_stanovnika</th><th>okrug</th><th>test</th></tr><tr><th></th><th>String</th><th>Int64</th><th>String</th><th>String</th></tr></thead><tbody><p>5 rows × 4 columns</p><tr><th>1</th><td>Niš</td><td>260237</td><td>nišavski</td><td>test 1</td></tr><tr><th>2</th><td>Beograd</td><td>1166763</td><td>beogradski</td><td>test 2</td></tr><tr><th>3</th><td>Novi Sad</td><td>250439</td><td>južnobački</td><td>test 3</td></tr><tr><th>4</th><td>Leskovac</td><td>144206</td><td>jablanički</td><td>test 4</td></tr><tr><th>5</th><td>Pirot</td><td>40267</td><td>pirotski</td><td>test 5</td></tr></tbody></table>"
      ],
      "text/latex": [
       "\\begin{tabular}{r|cccc}\n",
       "\t& grad & broj\\_stanovnika & okrug & test\\\\\n",
       "\t\\hline\n",
       "\t& String & Int64 & String & String\\\\\n",
       "\t\\hline\n",
       "\t1 & Niš & 260237 & nišavski & test 1 \\\\\n",
       "\t2 & Beograd & 1166763 & beogradski & test 2 \\\\\n",
       "\t3 & Novi Sad & 250439 & južnobački & test 3 \\\\\n",
       "\t4 & Leskovac & 144206 & jablanički & test 4 \\\\\n",
       "\t5 & Pirot & 40267 & pirotski & test 5 \\\\\n",
       "\\end{tabular}\n"
      ],
      "text/plain": [
       "\u001b[1m5×4 DataFrame\u001b[0m\n",
       "\u001b[1m Row \u001b[0m│\u001b[1m grad     \u001b[0m\u001b[1m broj_stanovnika \u001b[0m\u001b[1m okrug      \u001b[0m\u001b[1m test   \u001b[0m\n",
       "\u001b[1m     \u001b[0m│\u001b[90m String   \u001b[0m\u001b[90m Int64           \u001b[0m\u001b[90m String     \u001b[0m\u001b[90m String \u001b[0m\n",
       "─────┼───────────────────────────────────────────────\n",
       "   1 │ Niš                260237  nišavski    test 1\n",
       "   2 │ Beograd           1166763  beogradski  test 2\n",
       "   3 │ Novi Sad           250439  južnobački  test 3\n",
       "   4 │ Leskovac           144206  jablanički  test 4\n",
       "   5 │ Pirot               40267  pirotski    test 5"
      ]
     },
     "execution_count": 195,
     "metadata": {},
     "output_type": "execute_result"
    }
   ],
   "source": [
    "# ispravljanje greške nastale prilikom imenovanja kolone\n",
    "\n",
    "rename!(df, :trest => :test)\n",
    "df"
   ]
  },
  {
   "cell_type": "markdown",
   "id": "municipal-poker",
   "metadata": {},
   "source": [
    "### Uklanjanje kolone"
   ]
  },
  {
   "cell_type": "markdown",
   "id": "minute-worship",
   "metadata": {},
   "source": []
  },
  {
   "cell_type": "code",
   "execution_count": 196,
   "id": "convenient-printing",
   "metadata": {},
   "outputs": [
    {
     "data": {
      "text/html": [
       "<table class=\"data-frame\"><thead><tr><th></th><th>grad</th><th>broj_stanovnika</th><th>okrug</th></tr><tr><th></th><th>String</th><th>Int64</th><th>String</th></tr></thead><tbody><p>5 rows × 3 columns</p><tr><th>1</th><td>Niš</td><td>260237</td><td>nišavski</td></tr><tr><th>2</th><td>Beograd</td><td>1166763</td><td>beogradski</td></tr><tr><th>3</th><td>Novi Sad</td><td>250439</td><td>južnobački</td></tr><tr><th>4</th><td>Leskovac</td><td>144206</td><td>jablanički</td></tr><tr><th>5</th><td>Pirot</td><td>40267</td><td>pirotski</td></tr></tbody></table>"
      ],
      "text/latex": [
       "\\begin{tabular}{r|ccc}\n",
       "\t& grad & broj\\_stanovnika & okrug\\\\\n",
       "\t\\hline\n",
       "\t& String & Int64 & String\\\\\n",
       "\t\\hline\n",
       "\t1 & Niš & 260237 & nišavski \\\\\n",
       "\t2 & Beograd & 1166763 & beogradski \\\\\n",
       "\t3 & Novi Sad & 250439 & južnobački \\\\\n",
       "\t4 & Leskovac & 144206 & jablanički \\\\\n",
       "\t5 & Pirot & 40267 & pirotski \\\\\n",
       "\\end{tabular}\n"
      ],
      "text/plain": [
       "\u001b[1m5×3 DataFrame\u001b[0m\n",
       "\u001b[1m Row \u001b[0m│\u001b[1m grad     \u001b[0m\u001b[1m broj_stanovnika \u001b[0m\u001b[1m okrug      \u001b[0m\n",
       "\u001b[1m     \u001b[0m│\u001b[90m String   \u001b[0m\u001b[90m Int64           \u001b[0m\u001b[90m String     \u001b[0m\n",
       "─────┼───────────────────────────────────────\n",
       "   1 │ Niš                260237  nišavski\n",
       "   2 │ Beograd           1166763  beogradski\n",
       "   3 │ Novi Sad           250439  južnobački\n",
       "   4 │ Leskovac           144206  jablanički\n",
       "   5 │ Pirot               40267  pirotski"
      ]
     },
     "execution_count": 196,
     "metadata": {},
     "output_type": "execute_result"
    }
   ],
   "source": [
    "select!(df, Not(:test))"
   ]
  },
  {
   "cell_type": "markdown",
   "id": "cheap-scholarship",
   "metadata": {},
   "source": [
    "### Uklanjanje reda"
   ]
  },
  {
   "cell_type": "code",
   "execution_count": 200,
   "id": "valid-strain",
   "metadata": {},
   "outputs": [
    {
     "data": {
      "text/html": [
       "<table class=\"data-frame\"><thead><tr><th></th><th>grad</th><th>broj_stanovnika</th><th>okrug</th></tr><tr><th></th><th>String</th><th>Int64</th><th>String</th></tr></thead><tbody><p>6 rows × 3 columns</p><tr><th>1</th><td>Niš</td><td>260237</td><td>nišavski</td></tr><tr><th>2</th><td>Beograd</td><td>1166763</td><td>beogradski</td></tr><tr><th>3</th><td>Novi Sad</td><td>250439</td><td>južnobački</td></tr><tr><th>4</th><td>Leskovac</td><td>144206</td><td>jablanički</td></tr><tr><th>5</th><td>Pirot</td><td>40267</td><td>pirotski</td></tr><tr><th>6</th><td>Test grad</td><td>300000</td><td>test okrug</td></tr></tbody></table>"
      ],
      "text/latex": [
       "\\begin{tabular}{r|ccc}\n",
       "\t& grad & broj\\_stanovnika & okrug\\\\\n",
       "\t\\hline\n",
       "\t& String & Int64 & String\\\\\n",
       "\t\\hline\n",
       "\t1 & Niš & 260237 & nišavski \\\\\n",
       "\t2 & Beograd & 1166763 & beogradski \\\\\n",
       "\t3 & Novi Sad & 250439 & južnobački \\\\\n",
       "\t4 & Leskovac & 144206 & jablanički \\\\\n",
       "\t5 & Pirot & 40267 & pirotski \\\\\n",
       "\t6 & Test grad & 300000 & test okrug \\\\\n",
       "\\end{tabular}\n"
      ],
      "text/plain": [
       "\u001b[1m6×3 DataFrame\u001b[0m\n",
       "\u001b[1m Row \u001b[0m│\u001b[1m grad      \u001b[0m\u001b[1m broj_stanovnika \u001b[0m\u001b[1m okrug      \u001b[0m\n",
       "\u001b[1m     \u001b[0m│\u001b[90m String    \u001b[0m\u001b[90m Int64           \u001b[0m\u001b[90m String     \u001b[0m\n",
       "─────┼────────────────────────────────────────\n",
       "   1 │ Niš                 260237  nišavski\n",
       "   2 │ Beograd            1166763  beogradski\n",
       "   3 │ Novi Sad            250439  južnobački\n",
       "   4 │ Leskovac            144206  jablanički\n",
       "   5 │ Pirot                40267  pirotski\n",
       "   6 │ Test grad           300000  test okrug"
      ]
     },
     "execution_count": 200,
     "metadata": {},
     "output_type": "execute_result"
    }
   ],
   "source": [
    "# Najpre dodajemo novi red koji ćemo iskoristiti u svrhu demonstracije brisanja\n",
    "\n",
    "push!(df, [\"Test grad\", 300000, \"test okrug\"])\n"
   ]
  },
  {
   "cell_type": "code",
   "execution_count": 201,
   "id": "proprietary-anthropology",
   "metadata": {},
   "outputs": [
    {
     "data": {
      "text/html": [
       "<table class=\"data-frame\"><thead><tr><th></th><th>grad</th><th>broj_stanovnika</th><th>okrug</th></tr><tr><th></th><th>String</th><th>Int64</th><th>String</th></tr></thead><tbody><p>5 rows × 3 columns</p><tr><th>1</th><td>Niš</td><td>260237</td><td>nišavski</td></tr><tr><th>2</th><td>Beograd</td><td>1166763</td><td>beogradski</td></tr><tr><th>3</th><td>Novi Sad</td><td>250439</td><td>južnobački</td></tr><tr><th>4</th><td>Leskovac</td><td>144206</td><td>jablanički</td></tr><tr><th>5</th><td>Pirot</td><td>40267</td><td>pirotski</td></tr></tbody></table>"
      ],
      "text/latex": [
       "\\begin{tabular}{r|ccc}\n",
       "\t& grad & broj\\_stanovnika & okrug\\\\\n",
       "\t\\hline\n",
       "\t& String & Int64 & String\\\\\n",
       "\t\\hline\n",
       "\t1 & Niš & 260237 & nišavski \\\\\n",
       "\t2 & Beograd & 1166763 & beogradski \\\\\n",
       "\t3 & Novi Sad & 250439 & južnobački \\\\\n",
       "\t4 & Leskovac & 144206 & jablanički \\\\\n",
       "\t5 & Pirot & 40267 & pirotski \\\\\n",
       "\\end{tabular}\n"
      ],
      "text/plain": [
       "\u001b[1m5×3 DataFrame\u001b[0m\n",
       "\u001b[1m Row \u001b[0m│\u001b[1m grad     \u001b[0m\u001b[1m broj_stanovnika \u001b[0m\u001b[1m okrug      \u001b[0m\n",
       "\u001b[1m     \u001b[0m│\u001b[90m String   \u001b[0m\u001b[90m Int64           \u001b[0m\u001b[90m String     \u001b[0m\n",
       "─────┼───────────────────────────────────────\n",
       "   1 │ Niš                260237  nišavski\n",
       "   2 │ Beograd           1166763  beogradski\n",
       "   3 │ Novi Sad           250439  južnobački\n",
       "   4 │ Leskovac           144206  jablanički\n",
       "   5 │ Pirot               40267  pirotski"
      ]
     },
     "execution_count": 201,
     "metadata": {},
     "output_type": "execute_result"
    }
   ],
   "source": [
    "# Uklanjanje dodatog grada sa indeksom 6\n",
    "# Prvi argument metode delete! je DataFrame, a drugi indeks reda koji želimo da uklonimo\n",
    "\n",
    "delete!(df, 6)"
   ]
  },
  {
   "cell_type": "markdown",
   "id": "duplicate-tissue",
   "metadata": {},
   "source": [
    "- Vrlo često dolazi do situacije da greškom unesemo jedan red veći broj puta\n",
    "- unique! metoda će ukloniti sve duplikate iz DataFrame-a"
   ]
  },
  {
   "cell_type": "code",
   "execution_count": 203,
   "id": "introductory-bargain",
   "metadata": {},
   "outputs": [
    {
     "data": {
      "text/html": [
       "<table class=\"data-frame\"><thead><tr><th></th><th>grad</th><th>broj_stanovnika</th><th>okrug</th></tr><tr><th></th><th>String</th><th>Int64</th><th>String</th></tr></thead><tbody><p>7 rows × 3 columns</p><tr><th>1</th><td>Niš</td><td>260237</td><td>nišavski</td></tr><tr><th>2</th><td>Beograd</td><td>1166763</td><td>beogradski</td></tr><tr><th>3</th><td>Novi Sad</td><td>250439</td><td>južnobački</td></tr><tr><th>4</th><td>Leskovac</td><td>144206</td><td>jablanički</td></tr><tr><th>5</th><td>Pirot</td><td>40267</td><td>pirotski</td></tr><tr><th>6</th><td>Pirot</td><td>40267</td><td>pirotski</td></tr><tr><th>7</th><td>Pirot</td><td>40267</td><td>pirotski</td></tr></tbody></table>"
      ],
      "text/latex": [
       "\\begin{tabular}{r|ccc}\n",
       "\t& grad & broj\\_stanovnika & okrug\\\\\n",
       "\t\\hline\n",
       "\t& String & Int64 & String\\\\\n",
       "\t\\hline\n",
       "\t1 & Niš & 260237 & nišavski \\\\\n",
       "\t2 & Beograd & 1166763 & beogradski \\\\\n",
       "\t3 & Novi Sad & 250439 & južnobački \\\\\n",
       "\t4 & Leskovac & 144206 & jablanički \\\\\n",
       "\t5 & Pirot & 40267 & pirotski \\\\\n",
       "\t6 & Pirot & 40267 & pirotski \\\\\n",
       "\t7 & Pirot & 40267 & pirotski \\\\\n",
       "\\end{tabular}\n"
      ],
      "text/plain": [
       "\u001b[1m7×3 DataFrame\u001b[0m\n",
       "\u001b[1m Row \u001b[0m│\u001b[1m grad     \u001b[0m\u001b[1m broj_stanovnika \u001b[0m\u001b[1m okrug      \u001b[0m\n",
       "\u001b[1m     \u001b[0m│\u001b[90m String   \u001b[0m\u001b[90m Int64           \u001b[0m\u001b[90m String     \u001b[0m\n",
       "─────┼───────────────────────────────────────\n",
       "   1 │ Niš                260237  nišavski\n",
       "   2 │ Beograd           1166763  beogradski\n",
       "   3 │ Novi Sad           250439  južnobački\n",
       "   4 │ Leskovac           144206  jablanički\n",
       "   5 │ Pirot               40267  pirotski\n",
       "   6 │ Pirot               40267  pirotski\n",
       "   7 │ Pirot               40267  pirotski"
      ]
     },
     "execution_count": 203,
     "metadata": {},
     "output_type": "execute_result"
    }
   ],
   "source": [
    "push!(df, [\"Pirot\", 40267, \"pirotski\"])\n",
    "push!(df, [\"Pirot\", 40267, \"pirotski\"])"
   ]
  },
  {
   "cell_type": "code",
   "execution_count": 204,
   "id": "precious-ordering",
   "metadata": {
    "scrolled": true
   },
   "outputs": [
    {
     "data": {
      "text/html": [
       "<table class=\"data-frame\"><thead><tr><th></th><th>grad</th><th>broj_stanovnika</th><th>okrug</th></tr><tr><th></th><th>String</th><th>Int64</th><th>String</th></tr></thead><tbody><p>5 rows × 3 columns</p><tr><th>1</th><td>Niš</td><td>260237</td><td>nišavski</td></tr><tr><th>2</th><td>Beograd</td><td>1166763</td><td>beogradski</td></tr><tr><th>3</th><td>Novi Sad</td><td>250439</td><td>južnobački</td></tr><tr><th>4</th><td>Leskovac</td><td>144206</td><td>jablanički</td></tr><tr><th>5</th><td>Pirot</td><td>40267</td><td>pirotski</td></tr></tbody></table>"
      ],
      "text/latex": [
       "\\begin{tabular}{r|ccc}\n",
       "\t& grad & broj\\_stanovnika & okrug\\\\\n",
       "\t\\hline\n",
       "\t& String & Int64 & String\\\\\n",
       "\t\\hline\n",
       "\t1 & Niš & 260237 & nišavski \\\\\n",
       "\t2 & Beograd & 1166763 & beogradski \\\\\n",
       "\t3 & Novi Sad & 250439 & južnobački \\\\\n",
       "\t4 & Leskovac & 144206 & jablanički \\\\\n",
       "\t5 & Pirot & 40267 & pirotski \\\\\n",
       "\\end{tabular}\n"
      ],
      "text/plain": [
       "\u001b[1m5×3 DataFrame\u001b[0m\n",
       "\u001b[1m Row \u001b[0m│\u001b[1m grad     \u001b[0m\u001b[1m broj_stanovnika \u001b[0m\u001b[1m okrug      \u001b[0m\n",
       "\u001b[1m     \u001b[0m│\u001b[90m String   \u001b[0m\u001b[90m Int64           \u001b[0m\u001b[90m String     \u001b[0m\n",
       "─────┼───────────────────────────────────────\n",
       "   1 │ Niš                260237  nišavski\n",
       "   2 │ Beograd           1166763  beogradski\n",
       "   3 │ Novi Sad           250439  južnobački\n",
       "   4 │ Leskovac           144206  jablanički\n",
       "   5 │ Pirot               40267  pirotski"
      ]
     },
     "execution_count": 204,
     "metadata": {},
     "output_type": "execute_result"
    }
   ],
   "source": [
    "# Pozivom metode unique! i prosleđivanjem DataFrame objekta kao argumenta uklanjaju se duplirani redovi\n",
    "\n",
    "unique!(df)"
   ]
  },
  {
   "cell_type": "markdown",
   "id": "alert-happiness",
   "metadata": {},
   "source": [
    "### Obilazak DataFrame objekta, vrstu po vrstu"
   ]
  },
  {
   "cell_type": "markdown",
   "id": "iraqi-clerk",
   "metadata": {},
   "source": [
    "- Metodom **eachrow** moguće je obići **DataFrame** objekat, vrstu po vrstu\n",
    "- Vrednosti svakog pojedinačnog atributa unutar reda pristupa se preko rečnika"
   ]
  },
  {
   "cell_type": "code",
   "execution_count": 206,
   "id": "forced-welding",
   "metadata": {},
   "outputs": [
    {
     "name": "stdout",
     "output_type": "stream",
     "text": [
      "Grad: Niš broj stanovnika: 260237\n",
      "Grad: Beograd broj stanovnika: 1166763\n",
      "Grad: Novi Sad broj stanovnika: 250439\n",
      "Grad: Leskovac broj stanovnika: 144206\n",
      "Grad: Pirot broj stanovnika: 40267\n"
     ]
    }
   ],
   "source": [
    "for row in eachrow(df)\n",
    "   println(\"Grad: \", row.grad, \" broj stanovnika: \", row.broj_stanovnika) \n",
    "end"
   ]
  },
  {
   "cell_type": "markdown",
   "id": "weighted-premises",
   "metadata": {},
   "source": [
    "### Pristupanje koloni DataFrame objekta"
   ]
  },
  {
   "cell_type": "code",
   "execution_count": 207,
   "id": "parental-header",
   "metadata": {},
   "outputs": [
    {
     "data": {
      "text/plain": [
       "5-element Array{String,1}:\n",
       " \"Niš\"\n",
       " \"Beograd\"\n",
       " \"Novi Sad\"\n",
       " \"Leskovac\"\n",
       " \"Pirot\""
      ]
     },
     "execution_count": 207,
     "metadata": {},
     "output_type": "execute_result"
    }
   ],
   "source": [
    "df[:, :grad]"
   ]
  },
  {
   "cell_type": "markdown",
   "id": "incident-guatemala",
   "metadata": {},
   "source": [
    "- U primeru ispod, demonstrirano je pristupanje koloni pod nazivom **\"grad\"** i iteriranje kroz **for** petlju, u svrhu pristupanja svakoj vraćenoj vrednosti pojedinačno"
   ]
  },
  {
   "cell_type": "code",
   "execution_count": 208,
   "id": "automotive-fleet",
   "metadata": {},
   "outputs": [
    {
     "name": "stdout",
     "output_type": "stream",
     "text": [
      "Niš\n",
      "Beograd\n",
      "Novi Sad\n",
      "Leskovac\n",
      "Pirot\n"
     ]
    }
   ],
   "source": [
    "for grad in df[:, :grad]\n",
    "    println(grad)\n",
    "end"
   ]
  },
  {
   "cell_type": "markdown",
   "id": "threaded-douglas",
   "metadata": {},
   "source": [
    "- Još jedan od načina za pristupanje pojedinačnoj koloni **DataFrame** objekta demonstriran je u primeru ispod\n",
    "- Najpre se navodi naziv **DataFrame**-a, a onda iza tačke i naziv kolone čijim vrednostima želimo da pristupimo"
   ]
  },
  {
   "cell_type": "code",
   "execution_count": 209,
   "id": "efficient-bridal",
   "metadata": {},
   "outputs": [
    {
     "data": {
      "text/plain": [
       "5-element Array{String,1}:\n",
       " \"Niš\"\n",
       " \"Beograd\"\n",
       " \"Novi Sad\"\n",
       " \"Leskovac\"\n",
       " \"Pirot\""
      ]
     },
     "execution_count": 209,
     "metadata": {},
     "output_type": "execute_result"
    }
   ],
   "source": [
    "df.grad"
   ]
  },
  {
   "cell_type": "markdown",
   "id": "adolescent-installation",
   "metadata": {},
   "source": [
    "### Pristupanje redovima DataFrame objekta"
   ]
  },
  {
   "cell_type": "markdown",
   "id": "metallic-survivor",
   "metadata": {},
   "source": [
    "Pristupanje vrsti sa rednim brojem 1 i svim atributima (kolonama) tog reda (što je označeno sa **:**) demonstrirano je na primeru ispod"
   ]
  },
  {
   "cell_type": "code",
   "execution_count": 210,
   "id": "rational-behalf",
   "metadata": {},
   "outputs": [
    {
     "data": {
      "text/html": [
       "<p>DataFrameRow (3 columns)</p><table class=\"data-frame\"><thead><tr><th></th><th>grad</th><th>broj_stanovnika</th><th>okrug</th></tr><tr><th></th><th>String</th><th>Int64</th><th>String</th></tr></thead><tbody><tr><th>1</th><td>Niš</td><td>260237</td><td>nišavski</td></tr></tbody></table>"
      ],
      "text/latex": [
       "\\begin{tabular}{r|ccc}\n",
       "\t& grad & broj\\_stanovnika & okrug\\\\\n",
       "\t\\hline\n",
       "\t& String & Int64 & String\\\\\n",
       "\t\\hline\n",
       "\t1 & Niš & 260237 & nišavski \\\\\n",
       "\\end{tabular}\n"
      ],
      "text/plain": [
       "\u001b[1mDataFrameRow\u001b[0m\n",
       "\u001b[1m Row \u001b[0m│\u001b[1m grad   \u001b[0m\u001b[1m broj_stanovnika \u001b[0m\u001b[1m okrug    \u001b[0m\n",
       "\u001b[1m     \u001b[0m│\u001b[90m String \u001b[0m\u001b[90m Int64           \u001b[0m\u001b[90m String   \u001b[0m\n",
       "─────┼───────────────────────────────────\n",
       "   1 │ Niš              260237  nišavski"
      ]
     },
     "execution_count": 210,
     "metadata": {},
     "output_type": "execute_result"
    }
   ],
   "source": [
    "df[1, :]"
   ]
  },
  {
   "cell_type": "markdown",
   "id": "compliant-conditions",
   "metadata": {},
   "source": [
    "- Međutim, ukoliko bismo želeli da pristupimo vrednosti samo jednog atributa, umesto navođenja znaka **:** u oznaci kolone navodimo redni broj atributa\n",
    "- U primeru ispod, demonstrirano je pristupanje vrednosti drugog atributa instance koja se nalazi u prvoj vrsti"
   ]
  },
  {
   "cell_type": "code",
   "execution_count": 211,
   "id": "cleared-herald",
   "metadata": {},
   "outputs": [
    {
     "data": {
      "text/plain": [
       "260237"
      ]
     },
     "execution_count": 211,
     "metadata": {},
     "output_type": "execute_result"
    }
   ],
   "source": [
    "df[1, 2]"
   ]
  },
  {
   "cell_type": "markdown",
   "id": "sophisticated-thread",
   "metadata": {},
   "source": [
    "Isto smo mogli postići i navođenjem naziva kolone putem simbola umesto indeksiranja atributa"
   ]
  },
  {
   "cell_type": "code",
   "execution_count": 212,
   "id": "powerful-chamber",
   "metadata": {},
   "outputs": [
    {
     "data": {
      "text/plain": [
       "260237"
      ]
     },
     "execution_count": 212,
     "metadata": {},
     "output_type": "execute_result"
    }
   ],
   "source": [
    "df[1, :broj_stanovnika]"
   ]
  },
  {
   "cell_type": "markdown",
   "id": "packed-elements",
   "metadata": {},
   "source": [
    "Umesto navođenja naziva samo jednog atributa, možemo navesti listu simbola koji predstavljaju nazive atributa čijim vrednostima želimo da pristupimo"
   ]
  },
  {
   "cell_type": "code",
   "execution_count": 213,
   "id": "silver-joseph",
   "metadata": {},
   "outputs": [
    {
     "data": {
      "text/html": [
       "<p>DataFrameRow (2 columns)</p><table class=\"data-frame\"><thead><tr><th></th><th>grad</th><th>broj_stanovnika</th></tr><tr><th></th><th>String</th><th>Int64</th></tr></thead><tbody><tr><th>1</th><td>Niš</td><td>260237</td></tr></tbody></table>"
      ],
      "text/latex": [
       "\\begin{tabular}{r|cc}\n",
       "\t& grad & broj\\_stanovnika\\\\\n",
       "\t\\hline\n",
       "\t& String & Int64\\\\\n",
       "\t\\hline\n",
       "\t1 & Niš & 260237 \\\\\n",
       "\\end{tabular}\n"
      ],
      "text/plain": [
       "\u001b[1mDataFrameRow\u001b[0m\n",
       "\u001b[1m Row \u001b[0m│\u001b[1m grad   \u001b[0m\u001b[1m broj_stanovnika \u001b[0m\n",
       "\u001b[1m     \u001b[0m│\u001b[90m String \u001b[0m\u001b[90m Int64           \u001b[0m\n",
       "─────┼─────────────────────────\n",
       "   1 │ Niš              260237"
      ]
     },
     "execution_count": 213,
     "metadata": {},
     "output_type": "execute_result"
    }
   ],
   "source": [
    "df[1, [:grad, :broj_stanovnika]]"
   ]
  },
  {
   "cell_type": "markdown",
   "id": "handed-commodity",
   "metadata": {},
   "source": [
    "Analogno pristupanju većem broju atributa (kolona), nismo ograničeni ni na samo jedan red, tako da korišćenjem operatora raspona možemo pristupiti većem broju redova"
   ]
  },
  {
   "cell_type": "code",
   "execution_count": 214,
   "id": "specialized-dylan",
   "metadata": {},
   "outputs": [
    {
     "data": {
      "text/plain": [
       "2-element Array{Int64,1}:\n",
       " 1166763\n",
       "  250439"
      ]
     },
     "execution_count": 214,
     "metadata": {},
     "output_type": "execute_result"
    }
   ],
   "source": [
    "df[2:3, :broj_stanovnika]"
   ]
  },
  {
   "cell_type": "markdown",
   "id": "pleasant-scoop",
   "metadata": {},
   "source": [
    "### Pisanje upita"
   ]
  },
  {
   "cell_type": "markdown",
   "id": "cross-rwanda",
   "metadata": {},
   "source": [
    "- Nad vektorima u programskom jeziku **Julia** možemo vršiti pokomponentne (pojedinačne) operacije\n",
    "- U primeru ispod, prikazana je upotreba operatora **==** koji će se izvršiti na svakom elementu navedenog vektora\n",
    "- Rezultat operacije je ponovo vektor koji sadrži jedinice na svim mestima gde je element imao vrednost **\"Leskovac\"**, odnosno nulu tamo gde to nije slučaj"
   ]
  },
  {
   "cell_type": "code",
   "execution_count": 215,
   "id": "prescribed-qatar",
   "metadata": {},
   "outputs": [
    {
     "data": {
      "text/plain": [
       "5-element BitArray{1}:\n",
       " 0\n",
       " 0\n",
       " 0\n",
       " 1\n",
       " 0"
      ]
     },
     "execution_count": 215,
     "metadata": {},
     "output_type": "execute_result"
    }
   ],
   "source": [
    "df.grad .== \"Leskovac\""
   ]
  },
  {
   "cell_type": "markdown",
   "id": "pressed-parish",
   "metadata": {},
   "source": [
    "Inače, gore pomenuta pokomponentna operacija nad elementima vektora je samo skraćeni zapis za poziv **map** funkcije, kao što je prikazano u primeru ispod"
   ]
  },
  {
   "cell_type": "code",
   "execution_count": 216,
   "id": "innocent-hundred",
   "metadata": {},
   "outputs": [
    {
     "data": {
      "text/plain": [
       "5-element Array{Bool,1}:\n",
       " 0\n",
       " 0\n",
       " 0\n",
       " 1\n",
       " 0"
      ]
     },
     "execution_count": 216,
     "metadata": {},
     "output_type": "execute_result"
    }
   ],
   "source": [
    "map(value -> value == \"Leskovac\", df.grad)"
   ]
  },
  {
   "cell_type": "markdown",
   "id": "bored-optimization",
   "metadata": {},
   "source": [
    "- U programskom jeziku **Julia**, nizom koji sadrži logičke vrednosti (**true** ili **false**) ili vrednosti 0 ili 1 možemo indeksirati vektore\n",
    "- Na identičan način možemo indeksirati i **DataFrame** objekte, čime postižemo filtriranje, odnosno \"generisanje upita\"\n",
    "- U primeru ispod, demonstrirano je pristupanje svim redovima koji za vrednost atributa \"grad\" imaju \"Leskovac\", a potom pristupanje atributu **\"broj_stanovnika\"**"
   ]
  },
  {
   "cell_type": "code",
   "execution_count": 217,
   "id": "sweet-dealer",
   "metadata": {},
   "outputs": [
    {
     "data": {
      "text/plain": [
       "1-element Array{Int64,1}:\n",
       " 144206"
      ]
     },
     "execution_count": 217,
     "metadata": {},
     "output_type": "execute_result"
    }
   ],
   "source": [
    "df[df.grad .== \"Leskovac\", :].broj_stanovnika"
   ]
  },
  {
   "cell_type": "markdown",
   "id": "skilled-launch",
   "metadata": {},
   "source": [
    "Ukoliko bismo, na primer, želeli da izvršimo filtriranje svih gradova čije ime nije **\"Leskovac\"**, to možemo učiniti naredbom koja je prikazana ispod"
   ]
  },
  {
   "cell_type": "code",
   "execution_count": 218,
   "id": "according-taylor",
   "metadata": {},
   "outputs": [
    {
     "data": {
      "text/html": [
       "<table class=\"data-frame\"><thead><tr><th></th><th>grad</th><th>broj_stanovnika</th><th>okrug</th></tr><tr><th></th><th>String</th><th>Int64</th><th>String</th></tr></thead><tbody><p>4 rows × 3 columns</p><tr><th>1</th><td>Niš</td><td>260237</td><td>nišavski</td></tr><tr><th>2</th><td>Beograd</td><td>1166763</td><td>beogradski</td></tr><tr><th>3</th><td>Novi Sad</td><td>250439</td><td>južnobački</td></tr><tr><th>4</th><td>Pirot</td><td>40267</td><td>pirotski</td></tr></tbody></table>"
      ],
      "text/latex": [
       "\\begin{tabular}{r|ccc}\n",
       "\t& grad & broj\\_stanovnika & okrug\\\\\n",
       "\t\\hline\n",
       "\t& String & Int64 & String\\\\\n",
       "\t\\hline\n",
       "\t1 & Niš & 260237 & nišavski \\\\\n",
       "\t2 & Beograd & 1166763 & beogradski \\\\\n",
       "\t3 & Novi Sad & 250439 & južnobački \\\\\n",
       "\t4 & Pirot & 40267 & pirotski \\\\\n",
       "\\end{tabular}\n"
      ],
      "text/plain": [
       "\u001b[1m4×3 DataFrame\u001b[0m\n",
       "\u001b[1m Row \u001b[0m│\u001b[1m grad     \u001b[0m\u001b[1m broj_stanovnika \u001b[0m\u001b[1m okrug      \u001b[0m\n",
       "\u001b[1m     \u001b[0m│\u001b[90m String   \u001b[0m\u001b[90m Int64           \u001b[0m\u001b[90m String     \u001b[0m\n",
       "─────┼───────────────────────────────────────\n",
       "   1 │ Niš                260237  nišavski\n",
       "   2 │ Beograd           1166763  beogradski\n",
       "   3 │ Novi Sad           250439  južnobački\n",
       "   4 │ Pirot               40267  pirotski"
      ]
     },
     "execution_count": 218,
     "metadata": {},
     "output_type": "execute_result"
    }
   ],
   "source": [
    "df[df.grad .!= \"Leskovac\", :]"
   ]
  },
  {
   "cell_type": "markdown",
   "id": "developmental-pipeline",
   "metadata": {},
   "source": [
    "- Isti rezultat mogli smo postići upotrebom funkcije **filter**, kao što je prikazano u primeru ispod\n",
    "- Drugi argument funkcije je **DataFrame**, dok je prvi argument funkcija koja će biti pozvana za svaku vrstu **DataFrame**-a\n",
    "- Funkcija koja je prosleđena kao prvi argument (anonimna funkcija) **DataFrame**-u vraća logičku vrednost, na osnovu koje se određuje da li u novom **DataFrame**-u treba zadržati red koji je u odgovarajućoj iteraciji prosleđen funkciji ili ne (**true** - zadržati red, **false** - odbaciti red)"
   ]
  },
  {
   "cell_type": "code",
   "execution_count": 219,
   "id": "broke-folks",
   "metadata": {},
   "outputs": [
    {
     "data": {
      "text/html": [
       "<table class=\"data-frame\"><thead><tr><th></th><th>grad</th><th>broj_stanovnika</th><th>okrug</th></tr><tr><th></th><th>String</th><th>Int64</th><th>String</th></tr></thead><tbody><p>4 rows × 3 columns</p><tr><th>1</th><td>Niš</td><td>260237</td><td>nišavski</td></tr><tr><th>2</th><td>Beograd</td><td>1166763</td><td>beogradski</td></tr><tr><th>3</th><td>Novi Sad</td><td>250439</td><td>južnobački</td></tr><tr><th>4</th><td>Pirot</td><td>40267</td><td>pirotski</td></tr></tbody></table>"
      ],
      "text/latex": [
       "\\begin{tabular}{r|ccc}\n",
       "\t& grad & broj\\_stanovnika & okrug\\\\\n",
       "\t\\hline\n",
       "\t& String & Int64 & String\\\\\n",
       "\t\\hline\n",
       "\t1 & Niš & 260237 & nišavski \\\\\n",
       "\t2 & Beograd & 1166763 & beogradski \\\\\n",
       "\t3 & Novi Sad & 250439 & južnobački \\\\\n",
       "\t4 & Pirot & 40267 & pirotski \\\\\n",
       "\\end{tabular}\n"
      ],
      "text/plain": [
       "\u001b[1m4×3 DataFrame\u001b[0m\n",
       "\u001b[1m Row \u001b[0m│\u001b[1m grad     \u001b[0m\u001b[1m broj_stanovnika \u001b[0m\u001b[1m okrug      \u001b[0m\n",
       "\u001b[1m     \u001b[0m│\u001b[90m String   \u001b[0m\u001b[90m Int64           \u001b[0m\u001b[90m String     \u001b[0m\n",
       "─────┼───────────────────────────────────────\n",
       "   1 │ Niš                260237  nišavski\n",
       "   2 │ Beograd           1166763  beogradski\n",
       "   3 │ Novi Sad           250439  južnobački\n",
       "   4 │ Pirot               40267  pirotski"
      ]
     },
     "execution_count": 219,
     "metadata": {},
     "output_type": "execute_result"
    }
   ],
   "source": [
    "filter(row -> row.grad != \"Leskovac\", df)"
   ]
  },
  {
   "cell_type": "markdown",
   "id": "awful-heath",
   "metadata": {},
   "source": [
    "Ukoliko bismo, na primer, želeli da izvršimo filtriranje svih gradova čiji je broj stanovnika manji ili jednak 300000, to možemo postići kodom prikazanim na primeru ispod"
   ]
  },
  {
   "cell_type": "code",
   "execution_count": 220,
   "id": "designing-sessions",
   "metadata": {},
   "outputs": [
    {
     "data": {
      "text/html": [
       "<table class=\"data-frame\"><thead><tr><th></th><th>grad</th><th>broj_stanovnika</th><th>okrug</th></tr><tr><th></th><th>String</th><th>Int64</th><th>String</th></tr></thead><tbody><p>4 rows × 3 columns</p><tr><th>1</th><td>Niš</td><td>260237</td><td>nišavski</td></tr><tr><th>2</th><td>Novi Sad</td><td>250439</td><td>južnobački</td></tr><tr><th>3</th><td>Leskovac</td><td>144206</td><td>jablanički</td></tr><tr><th>4</th><td>Pirot</td><td>40267</td><td>pirotski</td></tr></tbody></table>"
      ],
      "text/latex": [
       "\\begin{tabular}{r|ccc}\n",
       "\t& grad & broj\\_stanovnika & okrug\\\\\n",
       "\t\\hline\n",
       "\t& String & Int64 & String\\\\\n",
       "\t\\hline\n",
       "\t1 & Niš & 260237 & nišavski \\\\\n",
       "\t2 & Novi Sad & 250439 & južnobački \\\\\n",
       "\t3 & Leskovac & 144206 & jablanički \\\\\n",
       "\t4 & Pirot & 40267 & pirotski \\\\\n",
       "\\end{tabular}\n"
      ],
      "text/plain": [
       "\u001b[1m4×3 DataFrame\u001b[0m\n",
       "\u001b[1m Row \u001b[0m│\u001b[1m grad     \u001b[0m\u001b[1m broj_stanovnika \u001b[0m\u001b[1m okrug      \u001b[0m\n",
       "\u001b[1m     \u001b[0m│\u001b[90m String   \u001b[0m\u001b[90m Int64           \u001b[0m\u001b[90m String     \u001b[0m\n",
       "─────┼───────────────────────────────────────\n",
       "   1 │ Niš                260237  nišavski\n",
       "   2 │ Novi Sad           250439  južnobački\n",
       "   3 │ Leskovac           144206  jablanički\n",
       "   4 │ Pirot               40267  pirotski"
      ]
     },
     "execution_count": 220,
     "metadata": {},
     "output_type": "execute_result"
    }
   ],
   "source": [
    "df[df.broj_stanovnika .<= 300000, :]"
   ]
  },
  {
   "cell_type": "markdown",
   "id": "tough-surprise",
   "metadata": {},
   "source": [
    "Naravno, kao i u primeru gde smo ispitivali da li je naziv grada različit od **\"Leskovac\"** i to učinili indeksiranjem **DataFramea** nizom, ali i primenom **filter** funkcije, i ovde možemo upotrebiti **filter** funkciju u cilju izdvajanja svih gradova čija je populacija manja ili jednaka 300000"
   ]
  },
  {
   "cell_type": "code",
   "execution_count": 221,
   "id": "spanish-mileage",
   "metadata": {},
   "outputs": [
    {
     "data": {
      "text/html": [
       "<table class=\"data-frame\"><thead><tr><th></th><th>grad</th><th>broj_stanovnika</th><th>okrug</th></tr><tr><th></th><th>String</th><th>Int64</th><th>String</th></tr></thead><tbody><p>4 rows × 3 columns</p><tr><th>1</th><td>Niš</td><td>260237</td><td>nišavski</td></tr><tr><th>2</th><td>Novi Sad</td><td>250439</td><td>južnobački</td></tr><tr><th>3</th><td>Leskovac</td><td>144206</td><td>jablanički</td></tr><tr><th>4</th><td>Pirot</td><td>40267</td><td>pirotski</td></tr></tbody></table>"
      ],
      "text/latex": [
       "\\begin{tabular}{r|ccc}\n",
       "\t& grad & broj\\_stanovnika & okrug\\\\\n",
       "\t\\hline\n",
       "\t& String & Int64 & String\\\\\n",
       "\t\\hline\n",
       "\t1 & Niš & 260237 & nišavski \\\\\n",
       "\t2 & Novi Sad & 250439 & južnobački \\\\\n",
       "\t3 & Leskovac & 144206 & jablanički \\\\\n",
       "\t4 & Pirot & 40267 & pirotski \\\\\n",
       "\\end{tabular}\n"
      ],
      "text/plain": [
       "\u001b[1m4×3 DataFrame\u001b[0m\n",
       "\u001b[1m Row \u001b[0m│\u001b[1m grad     \u001b[0m\u001b[1m broj_stanovnika \u001b[0m\u001b[1m okrug      \u001b[0m\n",
       "\u001b[1m     \u001b[0m│\u001b[90m String   \u001b[0m\u001b[90m Int64           \u001b[0m\u001b[90m String     \u001b[0m\n",
       "─────┼───────────────────────────────────────\n",
       "   1 │ Niš                260237  nišavski\n",
       "   2 │ Novi Sad           250439  južnobački\n",
       "   3 │ Leskovac           144206  jablanički\n",
       "   4 │ Pirot               40267  pirotski"
      ]
     },
     "execution_count": 221,
     "metadata": {},
     "output_type": "execute_result"
    }
   ],
   "source": [
    "filter(row -> row.broj_stanovnika <= 300000, df)"
   ]
  },
  {
   "cell_type": "markdown",
   "id": "hairy-damage",
   "metadata": {},
   "source": [
    "- Redove **DataFrame**-a možemo sortirati po vrednosti odgovarajuće kolone, baš kao što je prikazano u primeru ispod \n",
    "- Redovi su sortirani po vrednosti kolone **\"broj_statovnika\"**, u rastućem redosledu"
   ]
  },
  {
   "cell_type": "code",
   "execution_count": 222,
   "id": "textile-comment",
   "metadata": {},
   "outputs": [
    {
     "data": {
      "text/html": [
       "<table class=\"data-frame\"><thead><tr><th></th><th>grad</th><th>broj_stanovnika</th><th>okrug</th></tr><tr><th></th><th>String</th><th>Int64</th><th>String</th></tr></thead><tbody><p>5 rows × 3 columns</p><tr><th>1</th><td>Beograd</td><td>1166763</td><td>beogradski</td></tr><tr><th>2</th><td>Leskovac</td><td>144206</td><td>jablanički</td></tr><tr><th>3</th><td>Niš</td><td>260237</td><td>nišavski</td></tr><tr><th>4</th><td>Novi Sad</td><td>250439</td><td>južnobački</td></tr><tr><th>5</th><td>Pirot</td><td>40267</td><td>pirotski</td></tr></tbody></table>"
      ],
      "text/latex": [
       "\\begin{tabular}{r|ccc}\n",
       "\t& grad & broj\\_stanovnika & okrug\\\\\n",
       "\t\\hline\n",
       "\t& String & Int64 & String\\\\\n",
       "\t\\hline\n",
       "\t1 & Beograd & 1166763 & beogradski \\\\\n",
       "\t2 & Leskovac & 144206 & jablanički \\\\\n",
       "\t3 & Niš & 260237 & nišavski \\\\\n",
       "\t4 & Novi Sad & 250439 & južnobački \\\\\n",
       "\t5 & Pirot & 40267 & pirotski \\\\\n",
       "\\end{tabular}\n"
      ],
      "text/plain": [
       "\u001b[1m5×3 DataFrame\u001b[0m\n",
       "\u001b[1m Row \u001b[0m│\u001b[1m grad     \u001b[0m\u001b[1m broj_stanovnika \u001b[0m\u001b[1m okrug      \u001b[0m\n",
       "\u001b[1m     \u001b[0m│\u001b[90m String   \u001b[0m\u001b[90m Int64           \u001b[0m\u001b[90m String     \u001b[0m\n",
       "─────┼───────────────────────────────────────\n",
       "   1 │ Beograd           1166763  beogradski\n",
       "   2 │ Leskovac           144206  jablanički\n",
       "   3 │ Niš                260237  nišavski\n",
       "   4 │ Novi Sad           250439  južnobački\n",
       "   5 │ Pirot               40267  pirotski"
      ]
     },
     "execution_count": 222,
     "metadata": {},
     "output_type": "execute_result"
    }
   ],
   "source": [
    "sort(df, :grad)"
   ]
  },
  {
   "cell_type": "markdown",
   "id": "agricultural-broadcasting",
   "metadata": {},
   "source": [
    "Ukoliko želimo da redovi budu sortirani u opadajućem redosledu vrednosti atributa **\"broj_stanovnika\"**, možemo upotrebiti parametar **\"rev\"** i proslediti mu vrednost **\"true\"**"
   ]
  },
  {
   "cell_type": "code",
   "execution_count": 223,
   "id": "alpine-decade",
   "metadata": {},
   "outputs": [
    {
     "data": {
      "text/html": [
       "<table class=\"data-frame\"><thead><tr><th></th><th>grad</th><th>broj_stanovnika</th><th>okrug</th></tr><tr><th></th><th>String</th><th>Int64</th><th>String</th></tr></thead><tbody><p>5 rows × 3 columns</p><tr><th>1</th><td>Pirot</td><td>40267</td><td>pirotski</td></tr><tr><th>2</th><td>Novi Sad</td><td>250439</td><td>južnobački</td></tr><tr><th>3</th><td>Niš</td><td>260237</td><td>nišavski</td></tr><tr><th>4</th><td>Leskovac</td><td>144206</td><td>jablanički</td></tr><tr><th>5</th><td>Beograd</td><td>1166763</td><td>beogradski</td></tr></tbody></table>"
      ],
      "text/latex": [
       "\\begin{tabular}{r|ccc}\n",
       "\t& grad & broj\\_stanovnika & okrug\\\\\n",
       "\t\\hline\n",
       "\t& String & Int64 & String\\\\\n",
       "\t\\hline\n",
       "\t1 & Pirot & 40267 & pirotski \\\\\n",
       "\t2 & Novi Sad & 250439 & južnobački \\\\\n",
       "\t3 & Niš & 260237 & nišavski \\\\\n",
       "\t4 & Leskovac & 144206 & jablanički \\\\\n",
       "\t5 & Beograd & 1166763 & beogradski \\\\\n",
       "\\end{tabular}\n"
      ],
      "text/plain": [
       "\u001b[1m5×3 DataFrame\u001b[0m\n",
       "\u001b[1m Row \u001b[0m│\u001b[1m grad     \u001b[0m\u001b[1m broj_stanovnika \u001b[0m\u001b[1m okrug      \u001b[0m\n",
       "\u001b[1m     \u001b[0m│\u001b[90m String   \u001b[0m\u001b[90m Int64           \u001b[0m\u001b[90m String     \u001b[0m\n",
       "─────┼───────────────────────────────────────\n",
       "   1 │ Pirot               40267  pirotski\n",
       "   2 │ Novi Sad           250439  južnobački\n",
       "   3 │ Niš                260237  nišavski\n",
       "   4 │ Leskovac           144206  jablanički\n",
       "   5 │ Beograd           1166763  beogradski"
      ]
     },
     "execution_count": 223,
     "metadata": {},
     "output_type": "execute_result"
    }
   ],
   "source": [
    "sort(df, :grad, rev=true)"
   ]
  },
  {
   "cell_type": "markdown",
   "id": "certain-concept",
   "metadata": {},
   "source": [
    "### Grupisanje"
   ]
  },
  {
   "cell_type": "markdown",
   "id": "premier-congo",
   "metadata": {},
   "source": [
    "Naredbom grupisanja je, kao što samo ime kaže, omogućeno grupisanje vrsta **DataFrame**-a na osnovu vrednosi navedenog atributa"
   ]
  },
  {
   "cell_type": "code",
   "execution_count": 224,
   "id": "fantastic-inspector",
   "metadata": {},
   "outputs": [
    {
     "data": {
      "text/html": [
       "<table class=\"data-frame\"><thead><tr><th></th><th>id</th><th>grad</th><th>ime</th><th>zarada</th></tr><tr><th></th><th>Int64</th><th>String</th><th>String</th><th>Int64</th></tr></thead><tbody><p>9 rows × 4 columns</p><tr><th>1</th><td>1</td><td>Niš</td><td>Marko</td><td>50000</td></tr><tr><th>2</th><td>2</td><td>Beograd</td><td>Milan</td><td>60000</td></tr><tr><th>3</th><td>3</td><td>Niš</td><td>Jovan</td><td>70000</td></tr><tr><th>4</th><td>4</td><td>Niš</td><td>Petar</td><td>50000</td></tr><tr><th>5</th><td>5</td><td>Beograd</td><td>Ivan</td><td>90000</td></tr><tr><th>6</th><td>6</td><td>Beograd</td><td>Ana</td><td>70000</td></tr><tr><th>7</th><td>7</td><td>Novi Sad</td><td>Jelena</td><td>60000</td></tr><tr><th>8</th><td>8</td><td>Novi Sad</td><td>Milica</td><td>50000</td></tr><tr><th>9</th><td>9</td><td>Novi Sad</td><td>Jovana</td><td>100000</td></tr></tbody></table>"
      ],
      "text/latex": [
       "\\begin{tabular}{r|cccc}\n",
       "\t& id & grad & ime & zarada\\\\\n",
       "\t\\hline\n",
       "\t& Int64 & String & String & Int64\\\\\n",
       "\t\\hline\n",
       "\t1 & 1 & Niš & Marko & 50000 \\\\\n",
       "\t2 & 2 & Beograd & Milan & 60000 \\\\\n",
       "\t3 & 3 & Niš & Jovan & 70000 \\\\\n",
       "\t4 & 4 & Niš & Petar & 50000 \\\\\n",
       "\t5 & 5 & Beograd & Ivan & 90000 \\\\\n",
       "\t6 & 6 & Beograd & Ana & 70000 \\\\\n",
       "\t7 & 7 & Novi Sad & Jelena & 60000 \\\\\n",
       "\t8 & 8 & Novi Sad & Milica & 50000 \\\\\n",
       "\t9 & 9 & Novi Sad & Jovana & 100000 \\\\\n",
       "\\end{tabular}\n"
      ],
      "text/plain": [
       "\u001b[1m9×4 DataFrame\u001b[0m\n",
       "\u001b[1m Row \u001b[0m│\u001b[1m id    \u001b[0m\u001b[1m grad     \u001b[0m\u001b[1m ime    \u001b[0m\u001b[1m zarada \u001b[0m\n",
       "\u001b[1m     \u001b[0m│\u001b[90m Int64 \u001b[0m\u001b[90m String   \u001b[0m\u001b[90m String \u001b[0m\u001b[90m Int64  \u001b[0m\n",
       "─────┼─────────────────────────────────\n",
       "   1 │     1  Niš       Marko    50000\n",
       "   2 │     2  Beograd   Milan    60000\n",
       "   3 │     3  Niš       Jovan    70000\n",
       "   4 │     4  Niš       Petar    50000\n",
       "   5 │     5  Beograd   Ivan     90000\n",
       "   6 │     6  Beograd   Ana      70000\n",
       "   7 │     7  Novi Sad  Jelena   60000\n",
       "   8 │     8  Novi Sad  Milica   50000\n",
       "   9 │     9  Novi Sad  Jovana  100000"
      ]
     },
     "execution_count": 224,
     "metadata": {},
     "output_type": "execute_result"
    }
   ],
   "source": [
    "id = [1, 2, 3, 4, 5, 6, 7, 8, 9]\n",
    "ime = [\"Marko\", \"Milan\", \"Jovan\", \"Petar\", \"Ivan\", \"Ana\", \"Jelena\", \"Milica\", \"Jovana\"]\n",
    "grad = [\"Niš\", \"Beograd\", \"Niš\", \"Niš\", \"Beograd\", \"Beograd\", \"Novi Sad\", \"Novi Sad\", \"Novi Sad\"]\n",
    "zarada = [50000, 60000, 70000, 50000, 90000, 70000, 60000, 50000, 100000]\n",
    "df_1 = DataFrame(id=id, grad=grad, ime=ime, zarada=zarada)"
   ]
  },
  {
   "cell_type": "markdown",
   "id": "progressive-window",
   "metadata": {},
   "source": [
    "- **groupby** je funkcija kojom se vrši grupisanje\n",
    "- kao prvi argument navodi se **DataFrame** objekat, a kao drugi atribut po čijim se vrednostima vrši grupisanje\n"
   ]
  },
  {
   "cell_type": "code",
   "execution_count": 225,
   "id": "interpreted-holocaust",
   "metadata": {},
   "outputs": [
    {
     "data": {
      "text/html": [
       "<p><b>GroupedDataFrame with 3 groups based on key: grad</b></p><p><i>First Group (3 rows): grad = \"Niš\"</i></p><table class=\"data-frame\"><thead><tr><th></th><th>id</th><th>grad</th><th>ime</th><th>zarada</th></tr><tr><th></th><th>Int64</th><th>String</th><th>String</th><th>Int64</th></tr></thead><tbody><tr><th>1</th><td>1</td><td>Niš</td><td>Marko</td><td>50000</td></tr><tr><th>2</th><td>3</td><td>Niš</td><td>Jovan</td><td>70000</td></tr><tr><th>3</th><td>4</td><td>Niš</td><td>Petar</td><td>50000</td></tr></tbody></table><p>&vellip;</p><p><i>Last Group (3 rows): grad = \"Novi Sad\"</i></p><table class=\"data-frame\"><thead><tr><th></th><th>id</th><th>grad</th><th>ime</th><th>zarada</th></tr><tr><th></th><th>Int64</th><th>String</th><th>String</th><th>Int64</th></tr></thead><tbody><tr><th>1</th><td>7</td><td>Novi Sad</td><td>Jelena</td><td>60000</td></tr><tr><th>2</th><td>8</td><td>Novi Sad</td><td>Milica</td><td>50000</td></tr><tr><th>3</th><td>9</td><td>Novi Sad</td><td>Jovana</td><td>100000</td></tr></tbody></table>"
      ],
      "text/latex": [
       "GroupedDataFrame with 3 groups based on key: grad\n",
       "\n",
       "First Group (3 rows): grad = \"Niš\"\n",
       "\n",
       "\\begin{tabular}{r|cccc}\n",
       "\t& id & grad & ime & zarada\\\\\n",
       "\t\\hline\n",
       "\t& Int64 & String & String & Int64\\\\\n",
       "\t\\hline\n",
       "\t1 & 1 & Niš & Marko & 50000 \\\\\n",
       "\t2 & 3 & Niš & Jovan & 70000 \\\\\n",
       "\t3 & 4 & Niš & Petar & 50000 \\\\\n",
       "\\end{tabular}\n",
       "\n",
       "$\\dots$\n",
       "\n",
       "Last Group (3 rows): grad = \"Novi Sad\"\n",
       "\n",
       "\\begin{tabular}{r|cccc}\n",
       "\t& id & grad & ime & zarada\\\\\n",
       "\t\\hline\n",
       "\t& Int64 & String & String & Int64\\\\\n",
       "\t\\hline\n",
       "\t1 & 7 & Novi Sad & Jelena & 60000 \\\\\n",
       "\t2 & 8 & Novi Sad & Milica & 50000 \\\\\n",
       "\t3 & 9 & Novi Sad & Jovana & 100000 \\\\\n",
       "\\end{tabular}\n"
      ],
      "text/plain": [
       "GroupedDataFrame with 3 groups based on key: grad\n",
       "First Group (3 rows): grad = \"Niš\"\n",
       "\u001b[1m Row \u001b[0m│\u001b[1m id    \u001b[0m\u001b[1m grad   \u001b[0m\u001b[1m ime    \u001b[0m\u001b[1m zarada \u001b[0m\n",
       "\u001b[1m     \u001b[0m│\u001b[90m Int64 \u001b[0m\u001b[90m String \u001b[0m\u001b[90m String \u001b[0m\u001b[90m Int64  \u001b[0m\n",
       "─────┼───────────────────────────────\n",
       "   1 │     1  Niš     Marko    50000\n",
       "   2 │     3  Niš     Jovan    70000\n",
       "   3 │     4  Niš     Petar    50000\n",
       "⋮\n",
       "Last Group (3 rows): grad = \"Novi Sad\"\n",
       "\u001b[1m Row \u001b[0m│\u001b[1m id    \u001b[0m\u001b[1m grad     \u001b[0m\u001b[1m ime    \u001b[0m\u001b[1m zarada \u001b[0m\n",
       "\u001b[1m     \u001b[0m│\u001b[90m Int64 \u001b[0m\u001b[90m String   \u001b[0m\u001b[90m String \u001b[0m\u001b[90m Int64  \u001b[0m\n",
       "─────┼─────────────────────────────────\n",
       "   1 │     7  Novi Sad  Jelena   60000\n",
       "   2 │     8  Novi Sad  Milica   50000\n",
       "   3 │     9  Novi Sad  Jovana  100000"
      ]
     },
     "execution_count": 225,
     "metadata": {},
     "output_type": "execute_result"
    }
   ],
   "source": [
    "groupby(df_1, :grad)"
   ]
  },
  {
   "cell_type": "markdown",
   "id": "executed-niger",
   "metadata": {},
   "source": [
    "- Kao rezultat primene funkcije **groupby** na **DataFrame** objektu, dobija se iterator koji se može obići **for** petljom\n",
    "- U svakoj iteraciji **for** petlje postoji referenca na pojedinačni **DataFrame** objekat koji se trenutno obilazi\n",
    "- Svi redovi **DataFrame**-a u tekućoj iteraciji imaju istu vrednost atributa po kome se vršilo grupisanje \n",
    "- U primeru ispod, grupisanje je izvršeno na osnovu vrednosti atributa **\"grad\"**\n",
    "- Sve vrste u tekućoj iteraciji **for** petlje imaju istu vrednost atributa **\"grad\"**, što je iskorićeno da se izračuna i odštampa na izlazu prosečna vrednost zarada u svakom gradu"
   ]
  },
  {
   "cell_type": "code",
   "execution_count": 226,
   "id": "white-puzzle",
   "metadata": {},
   "outputs": [
    {
     "name": "stdout",
     "output_type": "stream",
     "text": [
      "Grad: Niš zarada: 56666.666666666664\n",
      "Grad: Beograd zarada: 73333.33333333333\n",
      "Grad: Novi Sad zarada: 70000.0\n"
     ]
    }
   ],
   "source": [
    "for frame in groupby(df_1, :grad)\n",
    "   city_name = frame[1, :grad]\n",
    "   mean_salary = mean(frame.zarada)\n",
    "   println(\"Grad: $(city_name)\", \" zarada: $(mean_salary)\") \n",
    "end"
   ]
  },
  {
   "cell_type": "markdown",
   "id": "expanded-scottish",
   "metadata": {},
   "source": [
    "- Petlja kojom se vrši obilazak pojedinačnih **DataFrame** objekata, nakon izvršenog grupisanja može se jednostavno zameniti kodom prikazanim ispod\n",
    "- Upotrebom **combine** funkcije nakon grupisanja vrsta na osnovu vrednosti navedenog atributa i dobijenog iteratora, vrši se ponvo grupisanje **DataFrame** objekata na osnovu navedenog atributa i funkcije agregacije (u navedenom primeru kao funkcija agregacije upotrebljena je **\"mean\"** funkcija zato što računamo prosečnu zaradu)\n",
    "- Nakon izvršenja **combine** funkcije, možemo videti novoformirani **DataFrame** koji sadrži informacije o prosečnim zaradma po gradovima"
   ]
  },
  {
   "cell_type": "code",
   "execution_count": 227,
   "id": "fancy-angola",
   "metadata": {},
   "outputs": [
    {
     "data": {
      "text/html": [
       "<table class=\"data-frame\"><thead><tr><th></th><th>grad</th><th>zarada_mean</th></tr><tr><th></th><th>String</th><th>Float64</th></tr></thead><tbody><p>3 rows × 2 columns</p><tr><th>1</th><td>Niš</td><td>56666.7</td></tr><tr><th>2</th><td>Beograd</td><td>73333.3</td></tr><tr><th>3</th><td>Novi Sad</td><td>70000.0</td></tr></tbody></table>"
      ],
      "text/latex": [
       "\\begin{tabular}{r|cc}\n",
       "\t& grad & zarada\\_mean\\\\\n",
       "\t\\hline\n",
       "\t& String & Float64\\\\\n",
       "\t\\hline\n",
       "\t1 & Niš & 56666.7 \\\\\n",
       "\t2 & Beograd & 73333.3 \\\\\n",
       "\t3 & Novi Sad & 70000.0 \\\\\n",
       "\\end{tabular}\n"
      ],
      "text/plain": [
       "\u001b[1m3×2 DataFrame\u001b[0m\n",
       "\u001b[1m Row \u001b[0m│\u001b[1m grad     \u001b[0m\u001b[1m zarada_mean \u001b[0m\n",
       "\u001b[1m     \u001b[0m│\u001b[90m String   \u001b[0m\u001b[90m Float64     \u001b[0m\n",
       "─────┼───────────────────────\n",
       "   1 │ Niš           56666.7\n",
       "   2 │ Beograd       73333.3\n",
       "   3 │ Novi Sad      70000.0"
      ]
     },
     "execution_count": 227,
     "metadata": {},
     "output_type": "execute_result"
    }
   ],
   "source": [
    "combine(groupby(df_1, :grad), :zarada => mean)"
   ]
  },
  {
   "cell_type": "markdown",
   "id": "exclusive-geneva",
   "metadata": {},
   "source": [
    "### Kombinovanje (udruživanje) dva DataFrame-a"
   ]
  },
  {
   "cell_type": "markdown",
   "id": "romance-ratio",
   "metadata": {},
   "source": []
  },
  {
   "cell_type": "code",
   "execution_count": 228,
   "id": "realistic-legislature",
   "metadata": {},
   "outputs": [
    {
     "data": {
      "text/html": [
       "<table class=\"data-frame\"><thead><tr><th></th><th>id</th><th>age</th></tr><tr><th></th><th>Int64</th><th>Int64</th></tr></thead><tbody><p>15 rows × 2 columns</p><tr><th>1</th><td>1</td><td>30</td></tr><tr><th>2</th><td>2</td><td>27</td></tr><tr><th>3</th><td>3</td><td>25</td></tr><tr><th>4</th><td>4</td><td>36</td></tr><tr><th>5</th><td>5</td><td>45</td></tr><tr><th>6</th><td>6</td><td>56</td></tr><tr><th>7</th><td>7</td><td>51</td></tr><tr><th>8</th><td>8</td><td>27</td></tr><tr><th>9</th><td>9</td><td>43</td></tr><tr><th>10</th><td>10</td><td>29</td></tr><tr><th>11</th><td>11</td><td>34</td></tr><tr><th>12</th><td>12</td><td>38</td></tr><tr><th>13</th><td>13</td><td>20</td></tr><tr><th>14</th><td>14</td><td>57</td></tr><tr><th>15</th><td>15</td><td>52</td></tr></tbody></table>"
      ],
      "text/latex": [
       "\\begin{tabular}{r|cc}\n",
       "\t& id & age\\\\\n",
       "\t\\hline\n",
       "\t& Int64 & Int64\\\\\n",
       "\t\\hline\n",
       "\t1 & 1 & 30 \\\\\n",
       "\t2 & 2 & 27 \\\\\n",
       "\t3 & 3 & 25 \\\\\n",
       "\t4 & 4 & 36 \\\\\n",
       "\t5 & 5 & 45 \\\\\n",
       "\t6 & 6 & 56 \\\\\n",
       "\t7 & 7 & 51 \\\\\n",
       "\t8 & 8 & 27 \\\\\n",
       "\t9 & 9 & 43 \\\\\n",
       "\t10 & 10 & 29 \\\\\n",
       "\t11 & 11 & 34 \\\\\n",
       "\t12 & 12 & 38 \\\\\n",
       "\t13 & 13 & 20 \\\\\n",
       "\t14 & 14 & 57 \\\\\n",
       "\t15 & 15 & 52 \\\\\n",
       "\\end{tabular}\n"
      ],
      "text/plain": [
       "\u001b[1m15×2 DataFrame\u001b[0m\n",
       "\u001b[1m Row \u001b[0m│\u001b[1m id    \u001b[0m\u001b[1m age   \u001b[0m\n",
       "\u001b[1m     \u001b[0m│\u001b[90m Int64 \u001b[0m\u001b[90m Int64 \u001b[0m\n",
       "─────┼──────────────\n",
       "   1 │     1     30\n",
       "   2 │     2     27\n",
       "   3 │     3     25\n",
       "   4 │     4     36\n",
       "   5 │     5     45\n",
       "   6 │     6     56\n",
       "   7 │     7     51\n",
       "   8 │     8     27\n",
       "   9 │     9     43\n",
       "  10 │    10     29\n",
       "  11 │    11     34\n",
       "  12 │    12     38\n",
       "  13 │    13     20\n",
       "  14 │    14     57\n",
       "  15 │    15     52"
      ]
     },
     "execution_count": 228,
     "metadata": {},
     "output_type": "execute_result"
    }
   ],
   "source": [
    "id = [1, 2, 3, 4, 5, 6, 7, 8, 9, 10, 11, 12, 13, 14, 15]\n",
    "age = [30, 27, 25, 36, 45, 56, 51, 27, 43, 29, 34, 38, 20, 57, 52]\n",
    "df_2 = DataFrame(id=id, age=age)"
   ]
  },
  {
   "cell_type": "markdown",
   "id": "upper-outdoors",
   "metadata": {},
   "source": [
    "- Funkcijom **innerjoin** omogućeno je udruživanje dva **DataFrame** objekta na osnovu navedenog kriterijuma poklapanja (vrednosti odgovarajućeg atributa koje su iste za vrste oba navedena **DataFrame**-a)\n",
    "- Sve vrste koje ne nađu svog \"parnjaka\" biće odbačene"
   ]
  },
  {
   "cell_type": "code",
   "execution_count": 229,
   "id": "comparable-seller",
   "metadata": {},
   "outputs": [
    {
     "data": {
      "text/html": [
       "<table class=\"data-frame\"><thead><tr><th></th><th>id</th><th>grad</th><th>ime</th><th>zarada</th><th>age</th></tr><tr><th></th><th>Int64</th><th>String</th><th>String</th><th>Int64</th><th>Int64</th></tr></thead><tbody><p>9 rows × 5 columns</p><tr><th>1</th><td>1</td><td>Niš</td><td>Marko</td><td>50000</td><td>30</td></tr><tr><th>2</th><td>2</td><td>Beograd</td><td>Milan</td><td>60000</td><td>27</td></tr><tr><th>3</th><td>3</td><td>Niš</td><td>Jovan</td><td>70000</td><td>25</td></tr><tr><th>4</th><td>4</td><td>Niš</td><td>Petar</td><td>50000</td><td>36</td></tr><tr><th>5</th><td>5</td><td>Beograd</td><td>Ivan</td><td>90000</td><td>45</td></tr><tr><th>6</th><td>6</td><td>Beograd</td><td>Ana</td><td>70000</td><td>56</td></tr><tr><th>7</th><td>7</td><td>Novi Sad</td><td>Jelena</td><td>60000</td><td>51</td></tr><tr><th>8</th><td>8</td><td>Novi Sad</td><td>Milica</td><td>50000</td><td>27</td></tr><tr><th>9</th><td>9</td><td>Novi Sad</td><td>Jovana</td><td>100000</td><td>43</td></tr></tbody></table>"
      ],
      "text/latex": [
       "\\begin{tabular}{r|ccccc}\n",
       "\t& id & grad & ime & zarada & age\\\\\n",
       "\t\\hline\n",
       "\t& Int64 & String & String & Int64 & Int64\\\\\n",
       "\t\\hline\n",
       "\t1 & 1 & Niš & Marko & 50000 & 30 \\\\\n",
       "\t2 & 2 & Beograd & Milan & 60000 & 27 \\\\\n",
       "\t3 & 3 & Niš & Jovan & 70000 & 25 \\\\\n",
       "\t4 & 4 & Niš & Petar & 50000 & 36 \\\\\n",
       "\t5 & 5 & Beograd & Ivan & 90000 & 45 \\\\\n",
       "\t6 & 6 & Beograd & Ana & 70000 & 56 \\\\\n",
       "\t7 & 7 & Novi Sad & Jelena & 60000 & 51 \\\\\n",
       "\t8 & 8 & Novi Sad & Milica & 50000 & 27 \\\\\n",
       "\t9 & 9 & Novi Sad & Jovana & 100000 & 43 \\\\\n",
       "\\end{tabular}\n"
      ],
      "text/plain": [
       "\u001b[1m9×5 DataFrame\u001b[0m\n",
       "\u001b[1m Row \u001b[0m│\u001b[1m id    \u001b[0m\u001b[1m grad     \u001b[0m\u001b[1m ime    \u001b[0m\u001b[1m zarada \u001b[0m\u001b[1m age   \u001b[0m\n",
       "\u001b[1m     \u001b[0m│\u001b[90m Int64 \u001b[0m\u001b[90m String   \u001b[0m\u001b[90m String \u001b[0m\u001b[90m Int64  \u001b[0m\u001b[90m Int64 \u001b[0m\n",
       "─────┼────────────────────────────────────────\n",
       "   1 │     1  Niš       Marko    50000     30\n",
       "   2 │     2  Beograd   Milan    60000     27\n",
       "   3 │     3  Niš       Jovan    70000     25\n",
       "   4 │     4  Niš       Petar    50000     36\n",
       "   5 │     5  Beograd   Ivan     90000     45\n",
       "   6 │     6  Beograd   Ana      70000     56\n",
       "   7 │     7  Novi Sad  Jelena   60000     51\n",
       "   8 │     8  Novi Sad  Milica   50000     27\n",
       "   9 │     9  Novi Sad  Jovana  100000     43"
      ]
     },
     "execution_count": 229,
     "metadata": {},
     "output_type": "execute_result"
    }
   ],
   "source": [
    "innerjoin(df_1, df_2, on=:id)"
   ]
  },
  {
   "cell_type": "markdown",
   "id": "restricted-tennis",
   "metadata": {},
   "source": [
    "- Funkcijom **leftjoin** je isto kao i funkcijom **innerjoin** omogućeno kombinovanje dva **DataFrame** objekta\n",
    "- Za razliku od **innerjoin** funkcije, **leftjoin** funkcija će zadržati i sve redove prvog navedenog **DataFramea** koji ne nađu svoje \"parnjake\" u drugom navedenom **DataFrame**-u, a kao vrednosti atributa drugog **DataFrame**-a zadržaće specijalnu vrednost **\"missing\"** "
   ]
  },
  {
   "cell_type": "code",
   "execution_count": 230,
   "id": "moral-clarity",
   "metadata": {},
   "outputs": [
    {
     "data": {
      "text/html": [
       "<table class=\"data-frame\"><thead><tr><th></th><th>id</th><th>age</th><th>grad</th><th>ime</th><th>zarada</th></tr><tr><th></th><th>Int64</th><th>Int64</th><th>String?</th><th>String?</th><th>Int64?</th></tr></thead><tbody><p>15 rows × 5 columns</p><tr><th>1</th><td>1</td><td>30</td><td>Niš</td><td>Marko</td><td>50000</td></tr><tr><th>2</th><td>2</td><td>27</td><td>Beograd</td><td>Milan</td><td>60000</td></tr><tr><th>3</th><td>3</td><td>25</td><td>Niš</td><td>Jovan</td><td>70000</td></tr><tr><th>4</th><td>4</td><td>36</td><td>Niš</td><td>Petar</td><td>50000</td></tr><tr><th>5</th><td>5</td><td>45</td><td>Beograd</td><td>Ivan</td><td>90000</td></tr><tr><th>6</th><td>6</td><td>56</td><td>Beograd</td><td>Ana</td><td>70000</td></tr><tr><th>7</th><td>7</td><td>51</td><td>Novi Sad</td><td>Jelena</td><td>60000</td></tr><tr><th>8</th><td>8</td><td>27</td><td>Novi Sad</td><td>Milica</td><td>50000</td></tr><tr><th>9</th><td>9</td><td>43</td><td>Novi Sad</td><td>Jovana</td><td>100000</td></tr><tr><th>10</th><td>10</td><td>29</td><td><em>missing</em></td><td><em>missing</em></td><td><em>missing</em></td></tr><tr><th>11</th><td>11</td><td>34</td><td><em>missing</em></td><td><em>missing</em></td><td><em>missing</em></td></tr><tr><th>12</th><td>12</td><td>38</td><td><em>missing</em></td><td><em>missing</em></td><td><em>missing</em></td></tr><tr><th>13</th><td>13</td><td>20</td><td><em>missing</em></td><td><em>missing</em></td><td><em>missing</em></td></tr><tr><th>14</th><td>14</td><td>57</td><td><em>missing</em></td><td><em>missing</em></td><td><em>missing</em></td></tr><tr><th>15</th><td>15</td><td>52</td><td><em>missing</em></td><td><em>missing</em></td><td><em>missing</em></td></tr></tbody></table>"
      ],
      "text/latex": [
       "\\begin{tabular}{r|ccccc}\n",
       "\t& id & age & grad & ime & zarada\\\\\n",
       "\t\\hline\n",
       "\t& Int64 & Int64 & String? & String? & Int64?\\\\\n",
       "\t\\hline\n",
       "\t1 & 1 & 30 & Niš & Marko & 50000 \\\\\n",
       "\t2 & 2 & 27 & Beograd & Milan & 60000 \\\\\n",
       "\t3 & 3 & 25 & Niš & Jovan & 70000 \\\\\n",
       "\t4 & 4 & 36 & Niš & Petar & 50000 \\\\\n",
       "\t5 & 5 & 45 & Beograd & Ivan & 90000 \\\\\n",
       "\t6 & 6 & 56 & Beograd & Ana & 70000 \\\\\n",
       "\t7 & 7 & 51 & Novi Sad & Jelena & 60000 \\\\\n",
       "\t8 & 8 & 27 & Novi Sad & Milica & 50000 \\\\\n",
       "\t9 & 9 & 43 & Novi Sad & Jovana & 100000 \\\\\n",
       "\t10 & 10 & 29 & \\emph{missing} & \\emph{missing} & \\emph{missing} \\\\\n",
       "\t11 & 11 & 34 & \\emph{missing} & \\emph{missing} & \\emph{missing} \\\\\n",
       "\t12 & 12 & 38 & \\emph{missing} & \\emph{missing} & \\emph{missing} \\\\\n",
       "\t13 & 13 & 20 & \\emph{missing} & \\emph{missing} & \\emph{missing} \\\\\n",
       "\t14 & 14 & 57 & \\emph{missing} & \\emph{missing} & \\emph{missing} \\\\\n",
       "\t15 & 15 & 52 & \\emph{missing} & \\emph{missing} & \\emph{missing} \\\\\n",
       "\\end{tabular}\n"
      ],
      "text/plain": [
       "\u001b[1m15×5 DataFrame\u001b[0m\n",
       "\u001b[1m Row \u001b[0m│\u001b[1m id    \u001b[0m\u001b[1m age   \u001b[0m\u001b[1m grad     \u001b[0m\u001b[1m ime     \u001b[0m\u001b[1m zarada  \u001b[0m\n",
       "\u001b[1m     \u001b[0m│\u001b[90m Int64 \u001b[0m\u001b[90m Int64 \u001b[0m\u001b[90m String?  \u001b[0m\u001b[90m String? \u001b[0m\u001b[90m Int64?  \u001b[0m\n",
       "─────┼──────────────────────────────────────────\n",
       "   1 │     1     30  Niš       Marko      50000\n",
       "   2 │     2     27  Beograd   Milan      60000\n",
       "   3 │     3     25  Niš       Jovan      70000\n",
       "   4 │     4     36  Niš       Petar      50000\n",
       "   5 │     5     45  Beograd   Ivan       90000\n",
       "   6 │     6     56  Beograd   Ana        70000\n",
       "   7 │     7     51  Novi Sad  Jelena     60000\n",
       "   8 │     8     27  Novi Sad  Milica     50000\n",
       "   9 │     9     43  Novi Sad  Jovana    100000\n",
       "  10 │    10     29 \u001b[90m missing  \u001b[0m\u001b[90m missing \u001b[0m\u001b[90m missing \u001b[0m\n",
       "  11 │    11     34 \u001b[90m missing  \u001b[0m\u001b[90m missing \u001b[0m\u001b[90m missing \u001b[0m\n",
       "  12 │    12     38 \u001b[90m missing  \u001b[0m\u001b[90m missing \u001b[0m\u001b[90m missing \u001b[0m\n",
       "  13 │    13     20 \u001b[90m missing  \u001b[0m\u001b[90m missing \u001b[0m\u001b[90m missing \u001b[0m\n",
       "  14 │    14     57 \u001b[90m missing  \u001b[0m\u001b[90m missing \u001b[0m\u001b[90m missing \u001b[0m\n",
       "  15 │    15     52 \u001b[90m missing  \u001b[0m\u001b[90m missing \u001b[0m\u001b[90m missing \u001b[0m"
      ]
     },
     "execution_count": 230,
     "metadata": {},
     "output_type": "execute_result"
    }
   ],
   "source": [
    "leftjoin(df_2, df_1, on=:id)"
   ]
  },
  {
   "cell_type": "markdown",
   "id": "efficient-secretariat",
   "metadata": {},
   "source": [
    "### Snimanje DataFrame-a"
   ]
  },
  {
   "cell_type": "markdown",
   "id": "sudden-contribution",
   "metadata": {},
   "source": [
    "- Snimanje dataframea je omogućeno primenom funkcije **write**, koja je definisana u **CSV** biblioteci\n",
    "- Kao prvi argument funkcije navodi se putanja do fajla, a kao drugi **DataFrame** objekat koji želimo da sačuvamo"
   ]
  },
  {
   "cell_type": "code",
   "execution_count": 231,
   "id": "nutritional-petersburg",
   "metadata": {},
   "outputs": [
    {
     "data": {
      "text/plain": [
       "\"./test_dataframe.csv\""
      ]
     },
     "execution_count": 231,
     "metadata": {},
     "output_type": "execute_result"
    }
   ],
   "source": [
    "CSV.write(\"./test_dataframe.csv\", df)"
   ]
  },
  {
   "cell_type": "markdown",
   "id": "looking-blond",
   "metadata": {},
   "source": [
    "### Učitavanje csv fajla u DataFrame objekat"
   ]
  },
  {
   "cell_type": "markdown",
   "id": "thirty-synthetic",
   "metadata": {},
   "source": [
    "- Učitavanje fajla sa ekstenzijom **csv**, koji sadrži vrednosti razdvojene zarezom (eng. **comma separated values**) u **DataFrame** objekat, vrši se funkcijom **read** koja je definisana u **CSV** biblioteci\n",
    "- Kao prvi argument **read** funkcije navodi se putanja do **csv** fajla, a kao drugi **DataFrame** kompozitni tip"
   ]
  },
  {
   "cell_type": "code",
   "execution_count": 232,
   "id": "sophisticated-defendant",
   "metadata": {},
   "outputs": [
    {
     "data": {
      "text/html": [
       "<table class=\"data-frame\"><thead><tr><th></th><th>Pregnancies</th><th>Glucose</th><th>BloodPressure</th><th>SkinThickness</th><th>Insulin</th><th>BMI</th><th>DiabetesPedigreeFunction</th></tr><tr><th></th><th>Int64</th><th>Int64</th><th>Int64</th><th>Int64</th><th>Int64</th><th>Float64</th><th>Float64</th></tr></thead><tbody><p>768 rows × 9 columns (omitted printing of 2 columns)</p><tr><th>1</th><td>6</td><td>148</td><td>72</td><td>35</td><td>0</td><td>33.6</td><td>0.627</td></tr><tr><th>2</th><td>1</td><td>85</td><td>66</td><td>29</td><td>0</td><td>26.6</td><td>0.351</td></tr><tr><th>3</th><td>8</td><td>183</td><td>64</td><td>0</td><td>0</td><td>23.3</td><td>0.672</td></tr><tr><th>4</th><td>1</td><td>89</td><td>66</td><td>23</td><td>94</td><td>28.1</td><td>0.167</td></tr><tr><th>5</th><td>0</td><td>137</td><td>40</td><td>35</td><td>168</td><td>43.1</td><td>2.288</td></tr><tr><th>6</th><td>5</td><td>116</td><td>74</td><td>0</td><td>0</td><td>25.6</td><td>0.201</td></tr><tr><th>7</th><td>3</td><td>78</td><td>50</td><td>32</td><td>88</td><td>31.0</td><td>0.248</td></tr><tr><th>8</th><td>10</td><td>115</td><td>0</td><td>0</td><td>0</td><td>35.3</td><td>0.134</td></tr><tr><th>9</th><td>2</td><td>197</td><td>70</td><td>45</td><td>543</td><td>30.5</td><td>0.158</td></tr><tr><th>10</th><td>8</td><td>125</td><td>96</td><td>0</td><td>0</td><td>0.0</td><td>0.232</td></tr><tr><th>11</th><td>4</td><td>110</td><td>92</td><td>0</td><td>0</td><td>37.6</td><td>0.191</td></tr><tr><th>12</th><td>10</td><td>168</td><td>74</td><td>0</td><td>0</td><td>38.0</td><td>0.537</td></tr><tr><th>13</th><td>10</td><td>139</td><td>80</td><td>0</td><td>0</td><td>27.1</td><td>1.441</td></tr><tr><th>14</th><td>1</td><td>189</td><td>60</td><td>23</td><td>846</td><td>30.1</td><td>0.398</td></tr><tr><th>15</th><td>5</td><td>166</td><td>72</td><td>19</td><td>175</td><td>25.8</td><td>0.587</td></tr><tr><th>16</th><td>7</td><td>100</td><td>0</td><td>0</td><td>0</td><td>30.0</td><td>0.484</td></tr><tr><th>17</th><td>0</td><td>118</td><td>84</td><td>47</td><td>230</td><td>45.8</td><td>0.551</td></tr><tr><th>18</th><td>7</td><td>107</td><td>74</td><td>0</td><td>0</td><td>29.6</td><td>0.254</td></tr><tr><th>19</th><td>1</td><td>103</td><td>30</td><td>38</td><td>83</td><td>43.3</td><td>0.183</td></tr><tr><th>20</th><td>1</td><td>115</td><td>70</td><td>30</td><td>96</td><td>34.6</td><td>0.529</td></tr><tr><th>21</th><td>3</td><td>126</td><td>88</td><td>41</td><td>235</td><td>39.3</td><td>0.704</td></tr><tr><th>22</th><td>8</td><td>99</td><td>84</td><td>0</td><td>0</td><td>35.4</td><td>0.388</td></tr><tr><th>23</th><td>7</td><td>196</td><td>90</td><td>0</td><td>0</td><td>39.8</td><td>0.451</td></tr><tr><th>24</th><td>9</td><td>119</td><td>80</td><td>35</td><td>0</td><td>29.0</td><td>0.263</td></tr><tr><th>25</th><td>11</td><td>143</td><td>94</td><td>33</td><td>146</td><td>36.6</td><td>0.254</td></tr><tr><th>26</th><td>10</td><td>125</td><td>70</td><td>26</td><td>115</td><td>31.1</td><td>0.205</td></tr><tr><th>27</th><td>7</td><td>147</td><td>76</td><td>0</td><td>0</td><td>39.4</td><td>0.257</td></tr><tr><th>28</th><td>1</td><td>97</td><td>66</td><td>15</td><td>140</td><td>23.2</td><td>0.487</td></tr><tr><th>29</th><td>13</td><td>145</td><td>82</td><td>19</td><td>110</td><td>22.2</td><td>0.245</td></tr><tr><th>30</th><td>5</td><td>117</td><td>92</td><td>0</td><td>0</td><td>34.1</td><td>0.337</td></tr><tr><th>&vellip;</th><td>&vellip;</td><td>&vellip;</td><td>&vellip;</td><td>&vellip;</td><td>&vellip;</td><td>&vellip;</td><td>&vellip;</td></tr></tbody></table>"
      ],
      "text/latex": [
       "\\begin{tabular}{r|cccccccc}\n",
       "\t& Pregnancies & Glucose & BloodPressure & SkinThickness & Insulin & BMI & DiabetesPedigreeFunction & \\\\\n",
       "\t\\hline\n",
       "\t& Int64 & Int64 & Int64 & Int64 & Int64 & Float64 & Float64 & \\\\\n",
       "\t\\hline\n",
       "\t1 & 6 & 148 & 72 & 35 & 0 & 33.6 & 0.627 & $\\dots$ \\\\\n",
       "\t2 & 1 & 85 & 66 & 29 & 0 & 26.6 & 0.351 & $\\dots$ \\\\\n",
       "\t3 & 8 & 183 & 64 & 0 & 0 & 23.3 & 0.672 & $\\dots$ \\\\\n",
       "\t4 & 1 & 89 & 66 & 23 & 94 & 28.1 & 0.167 & $\\dots$ \\\\\n",
       "\t5 & 0 & 137 & 40 & 35 & 168 & 43.1 & 2.288 & $\\dots$ \\\\\n",
       "\t6 & 5 & 116 & 74 & 0 & 0 & 25.6 & 0.201 & $\\dots$ \\\\\n",
       "\t7 & 3 & 78 & 50 & 32 & 88 & 31.0 & 0.248 & $\\dots$ \\\\\n",
       "\t8 & 10 & 115 & 0 & 0 & 0 & 35.3 & 0.134 & $\\dots$ \\\\\n",
       "\t9 & 2 & 197 & 70 & 45 & 543 & 30.5 & 0.158 & $\\dots$ \\\\\n",
       "\t10 & 8 & 125 & 96 & 0 & 0 & 0.0 & 0.232 & $\\dots$ \\\\\n",
       "\t11 & 4 & 110 & 92 & 0 & 0 & 37.6 & 0.191 & $\\dots$ \\\\\n",
       "\t12 & 10 & 168 & 74 & 0 & 0 & 38.0 & 0.537 & $\\dots$ \\\\\n",
       "\t13 & 10 & 139 & 80 & 0 & 0 & 27.1 & 1.441 & $\\dots$ \\\\\n",
       "\t14 & 1 & 189 & 60 & 23 & 846 & 30.1 & 0.398 & $\\dots$ \\\\\n",
       "\t15 & 5 & 166 & 72 & 19 & 175 & 25.8 & 0.587 & $\\dots$ \\\\\n",
       "\t16 & 7 & 100 & 0 & 0 & 0 & 30.0 & 0.484 & $\\dots$ \\\\\n",
       "\t17 & 0 & 118 & 84 & 47 & 230 & 45.8 & 0.551 & $\\dots$ \\\\\n",
       "\t18 & 7 & 107 & 74 & 0 & 0 & 29.6 & 0.254 & $\\dots$ \\\\\n",
       "\t19 & 1 & 103 & 30 & 38 & 83 & 43.3 & 0.183 & $\\dots$ \\\\\n",
       "\t20 & 1 & 115 & 70 & 30 & 96 & 34.6 & 0.529 & $\\dots$ \\\\\n",
       "\t21 & 3 & 126 & 88 & 41 & 235 & 39.3 & 0.704 & $\\dots$ \\\\\n",
       "\t22 & 8 & 99 & 84 & 0 & 0 & 35.4 & 0.388 & $\\dots$ \\\\\n",
       "\t23 & 7 & 196 & 90 & 0 & 0 & 39.8 & 0.451 & $\\dots$ \\\\\n",
       "\t24 & 9 & 119 & 80 & 35 & 0 & 29.0 & 0.263 & $\\dots$ \\\\\n",
       "\t25 & 11 & 143 & 94 & 33 & 146 & 36.6 & 0.254 & $\\dots$ \\\\\n",
       "\t26 & 10 & 125 & 70 & 26 & 115 & 31.1 & 0.205 & $\\dots$ \\\\\n",
       "\t27 & 7 & 147 & 76 & 0 & 0 & 39.4 & 0.257 & $\\dots$ \\\\\n",
       "\t28 & 1 & 97 & 66 & 15 & 140 & 23.2 & 0.487 & $\\dots$ \\\\\n",
       "\t29 & 13 & 145 & 82 & 19 & 110 & 22.2 & 0.245 & $\\dots$ \\\\\n",
       "\t30 & 5 & 117 & 92 & 0 & 0 & 34.1 & 0.337 & $\\dots$ \\\\\n",
       "\t$\\dots$ & $\\dots$ & $\\dots$ & $\\dots$ & $\\dots$ & $\\dots$ & $\\dots$ & $\\dots$ &  \\\\\n",
       "\\end{tabular}\n"
      ],
      "text/plain": [
       "\u001b[1m768×9 DataFrame\u001b[0m\n",
       "\u001b[1m Row \u001b[0m│\u001b[1m Pregnancies \u001b[0m\u001b[1m Glucose \u001b[0m\u001b[1m BloodPressure \u001b[0m\u001b[1m SkinThickness \u001b[0m\u001b[1m Insulin \u001b[0m\u001b[1m BMI     \u001b[0m\u001b[1m D\u001b[0m ⋯\n",
       "\u001b[1m     \u001b[0m│\u001b[90m Int64       \u001b[0m\u001b[90m Int64   \u001b[0m\u001b[90m Int64         \u001b[0m\u001b[90m Int64         \u001b[0m\u001b[90m Int64   \u001b[0m\u001b[90m Float64 \u001b[0m\u001b[90m F\u001b[0m ⋯\n",
       "─────┼──────────────────────────────────────────────────────────────────────────\n",
       "   1 │           6      148             72             35        0     33.6    ⋯\n",
       "   2 │           1       85             66             29        0     26.6\n",
       "   3 │           8      183             64              0        0     23.3\n",
       "   4 │           1       89             66             23       94     28.1\n",
       "   5 │           0      137             40             35      168     43.1    ⋯\n",
       "   6 │           5      116             74              0        0     25.6\n",
       "   7 │           3       78             50             32       88     31.0\n",
       "   8 │          10      115              0              0        0     35.3\n",
       "   9 │           2      197             70             45      543     30.5    ⋯\n",
       "  10 │           8      125             96              0        0      0.0\n",
       "  11 │           4      110             92              0        0     37.6\n",
       "  ⋮  │      ⋮          ⋮           ⋮              ⋮           ⋮        ⋮       ⋱\n",
       " 759 │           1      106             76              0        0     37.5\n",
       " 760 │           6      190             92              0        0     35.5    ⋯\n",
       " 761 │           2       88             58             26       16     28.4\n",
       " 762 │           9      170             74             31        0     44.0\n",
       " 763 │           9       89             62              0        0     22.5\n",
       " 764 │          10      101             76             48      180     32.9    ⋯\n",
       " 765 │           2      122             70             27        0     36.8\n",
       " 766 │           5      121             72             23      112     26.2\n",
       " 767 │           1      126             60              0        0     30.1\n",
       " 768 │           1       93             70             31        0     30.4    ⋯\n",
       "\u001b[36m                                                  3 columns and 747 rows omitted\u001b[0m"
      ]
     },
     "execution_count": 232,
     "metadata": {},
     "output_type": "execute_result"
    }
   ],
   "source": [
    "df_loaded = CSV.read(\"indians.csv\", DataFrame)"
   ]
  },
  {
   "cell_type": "markdown",
   "id": "visible-soundtrack",
   "metadata": {},
   "source": [
    "### Nedostajuće vrednosti"
   ]
  },
  {
   "cell_type": "markdown",
   "id": "married-conversation",
   "metadata": {},
   "source": [
    "- U programskom jeziku **Julia**, uveden je poseban tip za označavanje nedostajućih vrednosti\n",
    "- U pitanju je tip **Missing**, a literal koji se koristi za kreiranje konkretne vrednosti je **missing**\n",
    "- U primeru ispod, primenom funkcije **typeof** možemo videti kog je tipa literal **missing** "
   ]
  },
  {
   "cell_type": "code",
   "execution_count": 233,
   "id": "sharing-settle",
   "metadata": {},
   "outputs": [
    {
     "data": {
      "text/plain": [
       "Missing"
      ]
     },
     "execution_count": 233,
     "metadata": {},
     "output_type": "execute_result"
    }
   ],
   "source": [
    "typeof(missing)"
   ]
  },
  {
   "cell_type": "markdown",
   "id": "engaged-participation",
   "metadata": {},
   "source": [
    "- Problem se može javiti zbog načina na koji **Julia** tretira nedostajuće vrednosti\n",
    "- Ukoliko vršimo neku aritmetičku operaciju između neke vrednosti i vrednosti tipa **missing**, kao rezultat dobićemo **missing** vrednost\n",
    "- U kodu koji je prikazan ispod, prikazan je rezultat sabiranja vrednosti tipa **Int64** i vrednosti **missing**"
   ]
  },
  {
   "cell_type": "code",
   "execution_count": 234,
   "id": "substantial-parts",
   "metadata": {},
   "outputs": [
    {
     "data": {
      "text/plain": [
       "missing"
      ]
     },
     "execution_count": 234,
     "metadata": {},
     "output_type": "execute_result"
    }
   ],
   "source": [
    "a = 10\n",
    "a + missing"
   ]
  },
  {
   "cell_type": "markdown",
   "id": "incident-tomorrow",
   "metadata": {},
   "source": [
    "Gotovo identično gore navedenoj situaciji, ukoliko pokušamo da sumiramo elemente niza koji sadrži makar jednu **missing** vrednost, kao rezultat dobićemo **missing** vrednost"
   ]
  },
  {
   "cell_type": "code",
   "execution_count": 235,
   "id": "august-casting",
   "metadata": {},
   "outputs": [
    {
     "data": {
      "text/plain": [
       "missing"
      ]
     },
     "execution_count": 235,
     "metadata": {},
     "output_type": "execute_result"
    }
   ],
   "source": [
    "a_1 = [1 2 3 missing 5 6 missing 7 8 missing 9]\n",
    "sum(a_1)"
   ]
  },
  {
   "cell_type": "markdown",
   "id": "catholic-punishment",
   "metadata": {},
   "source": [
    "Upotrebom funkcije **skipmissing** možemo eksplicitno navesti da želimo izostavljanje nedostajućih vrednosti, ukoliko one postoje u nizu"
   ]
  },
  {
   "cell_type": "code",
   "execution_count": 236,
   "id": "disabled-display",
   "metadata": {},
   "outputs": [
    {
     "data": {
      "text/plain": [
       "41"
      ]
     },
     "execution_count": 236,
     "metadata": {},
     "output_type": "execute_result"
    }
   ],
   "source": [
    "sum(skipmissing(a_1))"
   ]
  },
  {
   "cell_type": "markdown",
   "id": "north-genome",
   "metadata": {},
   "source": [
    "### Uklanjanje vrsta koje sadrže nedostajuće (missing) vrednosti iz DataFrame objekta"
   ]
  },
  {
   "cell_type": "markdown",
   "id": "characteristic-moore",
   "metadata": {},
   "source": [
    "U kodu uspod, kreiran je novi DataFrame objekat koji sadrži nedostajuće vrednosti"
   ]
  },
  {
   "cell_type": "code",
   "execution_count": 237,
   "id": "higher-battery",
   "metadata": {},
   "outputs": [
    {
     "data": {
      "text/html": [
       "<table class=\"data-frame\"><thead><tr><th></th><th>id</th><th>grad</th><th>ime</th><th>zarada</th></tr><tr><th></th><th>Int64</th><th>String</th><th>String?</th><th>Int64?</th></tr></thead><tbody><p>9 rows × 4 columns</p><tr><th>1</th><td>1</td><td>Niš</td><td>Marko</td><td>50000</td></tr><tr><th>2</th><td>2</td><td>Beograd</td><td><em>missing</em></td><td>60000</td></tr><tr><th>3</th><td>3</td><td>Niš</td><td>Jovan</td><td><em>missing</em></td></tr><tr><th>4</th><td>4</td><td>Niš</td><td><em>missing</em></td><td>50000</td></tr><tr><th>5</th><td>5</td><td>Beograd</td><td>Ivan</td><td><em>missing</em></td></tr><tr><th>6</th><td>6</td><td>Beograd</td><td>Ana</td><td>70000</td></tr><tr><th>7</th><td>7</td><td>Novi Sad</td><td>Jelena</td><td><em>missing</em></td></tr><tr><th>8</th><td>8</td><td>Novi Sad</td><td>Milica</td><td>50000</td></tr><tr><th>9</th><td>9</td><td>Novi Sad</td><td><em>missing</em></td><td>100000</td></tr></tbody></table>"
      ],
      "text/latex": [
       "\\begin{tabular}{r|cccc}\n",
       "\t& id & grad & ime & zarada\\\\\n",
       "\t\\hline\n",
       "\t& Int64 & String & String? & Int64?\\\\\n",
       "\t\\hline\n",
       "\t1 & 1 & Niš & Marko & 50000 \\\\\n",
       "\t2 & 2 & Beograd & \\emph{missing} & 60000 \\\\\n",
       "\t3 & 3 & Niš & Jovan & \\emph{missing} \\\\\n",
       "\t4 & 4 & Niš & \\emph{missing} & 50000 \\\\\n",
       "\t5 & 5 & Beograd & Ivan & \\emph{missing} \\\\\n",
       "\t6 & 6 & Beograd & Ana & 70000 \\\\\n",
       "\t7 & 7 & Novi Sad & Jelena & \\emph{missing} \\\\\n",
       "\t8 & 8 & Novi Sad & Milica & 50000 \\\\\n",
       "\t9 & 9 & Novi Sad & \\emph{missing} & 100000 \\\\\n",
       "\\end{tabular}\n"
      ],
      "text/plain": [
       "\u001b[1m9×4 DataFrame\u001b[0m\n",
       "\u001b[1m Row \u001b[0m│\u001b[1m id    \u001b[0m\u001b[1m grad     \u001b[0m\u001b[1m ime     \u001b[0m\u001b[1m zarada  \u001b[0m\n",
       "\u001b[1m     \u001b[0m│\u001b[90m Int64 \u001b[0m\u001b[90m String   \u001b[0m\u001b[90m String? \u001b[0m\u001b[90m Int64?  \u001b[0m\n",
       "─────┼───────────────────────────────────\n",
       "   1 │     1  Niš       Marko      50000\n",
       "   2 │     2  Beograd  \u001b[90m missing \u001b[0m   60000\n",
       "   3 │     3  Niš       Jovan   \u001b[90m missing \u001b[0m\n",
       "   4 │     4  Niš      \u001b[90m missing \u001b[0m   50000\n",
       "   5 │     5  Beograd   Ivan    \u001b[90m missing \u001b[0m\n",
       "   6 │     6  Beograd   Ana        70000\n",
       "   7 │     7  Novi Sad  Jelena  \u001b[90m missing \u001b[0m\n",
       "   8 │     8  Novi Sad  Milica     50000\n",
       "   9 │     9  Novi Sad \u001b[90m missing \u001b[0m  100000"
      ]
     },
     "execution_count": 237,
     "metadata": {},
     "output_type": "execute_result"
    }
   ],
   "source": [
    "id = [1, 2, 3, 4, 5, 6, 7, 8, 9]\n",
    "ime = [\"Marko\", missing, \"Jovan\", missing, \"Ivan\", \"Ana\", \"Jelena\", \"Milica\", missing]\n",
    "grad = [\"Niš\", \"Beograd\", \"Niš\", \"Niš\", \"Beograd\", \"Beograd\", \"Novi Sad\", \"Novi Sad\", \"Novi Sad\"]\n",
    "zarada = [50000, 60000, missing, 50000, missing, 70000, missing, 50000, 100000]\n",
    "df_3 = DataFrame(id=id, grad=grad, ime=ime, zarada=zarada)"
   ]
  },
  {
   "cell_type": "markdown",
   "id": "comparative-curve",
   "metadata": {},
   "source": [
    "Funkcijom **dropmissing**, navođenjem samo jednog argumenta (**DataFrame** objekta), uklanjaju se sve vrste koje sadrže makar jednu **missing** vrednost"
   ]
  },
  {
   "cell_type": "code",
   "execution_count": 238,
   "id": "regional-recipe",
   "metadata": {},
   "outputs": [
    {
     "data": {
      "text/html": [
       "<table class=\"data-frame\"><thead><tr><th></th><th>id</th><th>grad</th><th>ime</th><th>zarada</th></tr><tr><th></th><th>Int64</th><th>String</th><th>String</th><th>Int64</th></tr></thead><tbody><p>3 rows × 4 columns</p><tr><th>1</th><td>1</td><td>Niš</td><td>Marko</td><td>50000</td></tr><tr><th>2</th><td>6</td><td>Beograd</td><td>Ana</td><td>70000</td></tr><tr><th>3</th><td>8</td><td>Novi Sad</td><td>Milica</td><td>50000</td></tr></tbody></table>"
      ],
      "text/latex": [
       "\\begin{tabular}{r|cccc}\n",
       "\t& id & grad & ime & zarada\\\\\n",
       "\t\\hline\n",
       "\t& Int64 & String & String & Int64\\\\\n",
       "\t\\hline\n",
       "\t1 & 1 & Niš & Marko & 50000 \\\\\n",
       "\t2 & 6 & Beograd & Ana & 70000 \\\\\n",
       "\t3 & 8 & Novi Sad & Milica & 50000 \\\\\n",
       "\\end{tabular}\n"
      ],
      "text/plain": [
       "\u001b[1m3×4 DataFrame\u001b[0m\n",
       "\u001b[1m Row \u001b[0m│\u001b[1m id    \u001b[0m\u001b[1m grad     \u001b[0m\u001b[1m ime    \u001b[0m\u001b[1m zarada \u001b[0m\n",
       "\u001b[1m     \u001b[0m│\u001b[90m Int64 \u001b[0m\u001b[90m String   \u001b[0m\u001b[90m String \u001b[0m\u001b[90m Int64  \u001b[0m\n",
       "─────┼─────────────────────────────────\n",
       "   1 │     1  Niš       Marko    50000\n",
       "   2 │     6  Beograd   Ana      70000\n",
       "   3 │     8  Novi Sad  Milica   50000"
      ]
     },
     "execution_count": 238,
     "metadata": {},
     "output_type": "execute_result"
    }
   ],
   "source": [
    "dropmissing(df_3)"
   ]
  },
  {
   "cell_type": "markdown",
   "id": "seventh-rates",
   "metadata": {},
   "source": [
    "- Takođe, moguće je navesti i željenu kolonu koja će se ispitivati na pojavu nedostajuće vrednosti\n",
    "- U slučaju da se u navedenoj koloni javi nedostajuća vrednost, uklanja se cela vrsta čiji atribut sadrži nedostajuću vrednost\n",
    "- U primeru ispod, izbacuju se sve vrste koje imaju vrednost **missing** u koloni **\"zarada\"** "
   ]
  },
  {
   "cell_type": "code",
   "execution_count": 239,
   "id": "distinguished-albany",
   "metadata": {},
   "outputs": [
    {
     "name": "stdout",
     "output_type": "stream",
     "text": [
      "\u001b[1m9×4 DataFrame\u001b[0m\n",
      "\u001b[1m Row \u001b[0m│\u001b[1m id    \u001b[0m\u001b[1m grad     \u001b[0m\u001b[1m ime     \u001b[0m\u001b[1m zarada  \u001b[0m\n",
      "\u001b[1m     \u001b[0m│\u001b[90m Int64 \u001b[0m\u001b[90m String   \u001b[0m\u001b[90m String? \u001b[0m\u001b[90m Int64?  \u001b[0m\n",
      "─────┼───────────────────────────────────\n",
      "   1 │     1  Niš       Marko      50000\n",
      "   2 │     2  Beograd  \u001b[90m missing \u001b[0m   60000\n",
      "   3 │     3  Niš       Jovan   \u001b[90m missing \u001b[0m\n",
      "   4 │     4  Niš      \u001b[90m missing \u001b[0m   50000\n",
      "   5 │     5  Beograd   Ivan    \u001b[90m missing \u001b[0m\n",
      "   6 │     6  Beograd   Ana        70000\n",
      "   7 │     7  Novi Sad  Jelena  \u001b[90m missing \u001b[0m\n",
      "   8 │     8  Novi Sad  Milica     50000\n",
      "   9 │     9  Novi Sad \u001b[90m missing \u001b[0m  100000\n"
     ]
    },
    {
     "data": {
      "text/html": [
       "<table class=\"data-frame\"><thead><tr><th></th><th>id</th><th>grad</th><th>ime</th><th>zarada</th></tr><tr><th></th><th>Int64</th><th>String</th><th>String?</th><th>Int64</th></tr></thead><tbody><p>6 rows × 4 columns</p><tr><th>1</th><td>1</td><td>Niš</td><td>Marko</td><td>50000</td></tr><tr><th>2</th><td>2</td><td>Beograd</td><td><em>missing</em></td><td>60000</td></tr><tr><th>3</th><td>4</td><td>Niš</td><td><em>missing</em></td><td>50000</td></tr><tr><th>4</th><td>6</td><td>Beograd</td><td>Ana</td><td>70000</td></tr><tr><th>5</th><td>8</td><td>Novi Sad</td><td>Milica</td><td>50000</td></tr><tr><th>6</th><td>9</td><td>Novi Sad</td><td><em>missing</em></td><td>100000</td></tr></tbody></table>"
      ],
      "text/latex": [
       "\\begin{tabular}{r|cccc}\n",
       "\t& id & grad & ime & zarada\\\\\n",
       "\t\\hline\n",
       "\t& Int64 & String & String? & Int64\\\\\n",
       "\t\\hline\n",
       "\t1 & 1 & Niš & Marko & 50000 \\\\\n",
       "\t2 & 2 & Beograd & \\emph{missing} & 60000 \\\\\n",
       "\t3 & 4 & Niš & \\emph{missing} & 50000 \\\\\n",
       "\t4 & 6 & Beograd & Ana & 70000 \\\\\n",
       "\t5 & 8 & Novi Sad & Milica & 50000 \\\\\n",
       "\t6 & 9 & Novi Sad & \\emph{missing} & 100000 \\\\\n",
       "\\end{tabular}\n"
      ],
      "text/plain": [
       "\u001b[1m6×4 DataFrame\u001b[0m\n",
       "\u001b[1m Row \u001b[0m│\u001b[1m id    \u001b[0m\u001b[1m grad     \u001b[0m\u001b[1m ime     \u001b[0m\u001b[1m zarada \u001b[0m\n",
       "\u001b[1m     \u001b[0m│\u001b[90m Int64 \u001b[0m\u001b[90m String   \u001b[0m\u001b[90m String? \u001b[0m\u001b[90m Int64  \u001b[0m\n",
       "─────┼──────────────────────────────────\n",
       "   1 │     1  Niš       Marko     50000\n",
       "   2 │     2  Beograd  \u001b[90m missing \u001b[0m  60000\n",
       "   3 │     4  Niš      \u001b[90m missing \u001b[0m  50000\n",
       "   4 │     6  Beograd   Ana       70000\n",
       "   5 │     8  Novi Sad  Milica    50000\n",
       "   6 │     9  Novi Sad \u001b[90m missing \u001b[0m 100000"
      ]
     },
     "execution_count": 239,
     "metadata": {},
     "output_type": "execute_result"
    }
   ],
   "source": [
    "println(df_3)\n",
    "dropmissing(df_3, :zarada)"
   ]
  }
 ],
 "metadata": {
  "kernelspec": {
   "display_name": "Julia 1.5.4",
   "language": "julia",
   "name": "julia-1.5"
  },
  "language_info": {
   "file_extension": ".jl",
   "mimetype": "application/julia",
   "name": "julia",
   "version": "1.5.4"
  }
 },
 "nbformat": 4,
 "nbformat_minor": 5
}
